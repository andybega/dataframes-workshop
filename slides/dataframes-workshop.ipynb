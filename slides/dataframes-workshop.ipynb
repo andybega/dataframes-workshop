{
 "cells": [
  {
   "cell_type": "markdown",
   "metadata": {
    "slideshow": {
     "slide_type": "slide"
    }
   },
   "source": [
    "# Introduction to data frames with pandas and polars\n",
    "\n",
    "### Andreas Beger and Isaac Chung\n",
    "\n"
   ]
  },
  {
   "cell_type": "markdown",
   "metadata": {
    "slideshow": {
     "slide_type": "slide"
    }
   },
   "source": [
    "# Is this a new slide\n",
    "\n",
    "lorem ipsum\n",
    "\n",
    "\n",
    "# New section\n",
    "\n",
    "Lorem ipsum"
   ]
  }
 ],
 "metadata": {
  "language_info": {
   "name": "python"
  }
 },
 "nbformat": 4,
 "nbformat_minor": 2
}
