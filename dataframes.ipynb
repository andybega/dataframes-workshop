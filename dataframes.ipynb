{
 "cells": [
  {
   "cell_type": "markdown",
   "metadata": {},
   "source": [
    "# Introduction to dataframes in Python with pandas and polars\n",
    "\n",
    "Andreas Beger and Isaac Chung  \n",
    "Python Code Club x PyData Tallinn  \n",
    "27 November 2024  \n",
    "\n",
    "The source code for this notebook is [github.com/andybega/dataframes-workshop](https://github.com/andybega/dataframes-workshop)."
   ]
  },
  {
   "cell_type": "markdown",
   "metadata": {},
   "source": [
    "## Section 1: pandas\n",
    "\n",
    "We will start with **pandas**, the original and most widely used dataframe and data analysis library in Python. \n",
    "\n",
    "<div>\n",
    "<img src=\"https://upload.wikimedia.org/wikipedia/commons/thumb/e/ed/Pandas_logo.svg/640px-Pandas_logo.svg.png\" width=\"600\"/>\n",
    "</div> "
   ]
  },
  {
   "cell_type": "markdown",
   "metadata": {},
   "source": [
    "### Getting Started\n",
    "\n",
    "We first need to import pandas. We'll also import another package, numpy, which  implements data types for vectors and matrices. Pandas is built on top of numpy, but we only import it here to make it easier to generate an example data frame."
   ]
  },
  {
   "cell_type": "code",
   "execution_count": 1,
   "metadata": {},
   "outputs": [
    {
     "data": {
      "text/html": [
       "<div>\n",
       "<style scoped>\n",
       "    .dataframe tbody tr th:only-of-type {\n",
       "        vertical-align: middle;\n",
       "    }\n",
       "\n",
       "    .dataframe tbody tr th {\n",
       "        vertical-align: top;\n",
       "    }\n",
       "\n",
       "    .dataframe thead th {\n",
       "        text-align: right;\n",
       "    }\n",
       "</style>\n",
       "<table border=\"1\" class=\"dataframe\">\n",
       "  <thead>\n",
       "    <tr style=\"text-align: right;\">\n",
       "      <th></th>\n",
       "      <th>quarter</th>\n",
       "      <th>x</th>\n",
       "      <th>date</th>\n",
       "    </tr>\n",
       "  </thead>\n",
       "  <tbody>\n",
       "    <tr>\n",
       "      <th>0</th>\n",
       "      <td>1</td>\n",
       "      <td>-0.516363</td>\n",
       "      <td>2024-01-01</td>\n",
       "    </tr>\n",
       "    <tr>\n",
       "      <th>1</th>\n",
       "      <td>1</td>\n",
       "      <td>-0.311607</td>\n",
       "      <td>2024-02-01</td>\n",
       "    </tr>\n",
       "    <tr>\n",
       "      <th>2</th>\n",
       "      <td>2</td>\n",
       "      <td>-0.177434</td>\n",
       "      <td>2024-03-01</td>\n",
       "    </tr>\n",
       "    <tr>\n",
       "      <th>3</th>\n",
       "      <td>2</td>\n",
       "      <td>1.341635</td>\n",
       "      <td>2024-04-01</td>\n",
       "    </tr>\n",
       "    <tr>\n",
       "      <th>4</th>\n",
       "      <td>3</td>\n",
       "      <td>1.395682</td>\n",
       "      <td>2024-05-01</td>\n",
       "    </tr>\n",
       "  </tbody>\n",
       "</table>\n",
       "</div>"
      ],
      "text/plain": [
       "   quarter         x       date\n",
       "0        1 -0.516363 2024-01-01\n",
       "1        1 -0.311607 2024-02-01\n",
       "2        2 -0.177434 2024-03-01\n",
       "3        2  1.341635 2024-04-01\n",
       "4        3  1.395682 2024-05-01"
      ]
     },
     "execution_count": 1,
     "metadata": {},
     "output_type": "execute_result"
    }
   ],
   "source": [
    "import numpy as np\n",
    "import pandas as pd\n",
    "\n",
    "# Create an example data frame\n",
    "df = pd.DataFrame({\n",
    "    \"quarter\": [1, 1, 2, 2, 3],\n",
    "    \"x\": np.random.randn(5),\n",
    "    \"date\": pd.date_range(\"2024-01-01\", periods=5, freq=\"MS\")\n",
    "})\n",
    "\n",
    "df"
   ]
  },
  {
   "cell_type": "markdown",
   "metadata": {},
   "source": [
    "### Components of a dataframe\n",
    "\n",
    "Pandas **DataFrame**s consist of three components:\n",
    "\n",
    "1. One or more **Series**, which are the columns in the **DataFrame**. \n",
    "2. The names for the series, i.e. column names of the dataframe. \n",
    "3. The row names for each row in the dataframe, which pandas calls the **Index**."
   ]
  },
  {
   "cell_type": "markdown",
   "metadata": {},
   "source": [
    "#### Series "
   ]
  },
  {
   "cell_type": "code",
   "execution_count": 2,
   "metadata": {},
   "outputs": [
    {
     "data": {
      "text/plain": [
       "0   -0.516363\n",
       "1   -0.311607\n",
       "2   -0.177434\n",
       "3    1.341635\n",
       "4    1.395682\n",
       "Name: x, dtype: float64"
      ]
     },
     "execution_count": 2,
     "metadata": {},
     "output_type": "execute_result"
    }
   ],
   "source": [
    "df.x"
   ]
  },
  {
   "cell_type": "markdown",
   "metadata": {},
   "source": [
    "(Note how each series can have a different data type, unlike in a matrix or an array.)"
   ]
  },
  {
   "cell_type": "markdown",
   "metadata": {},
   "source": [
    "#### Columns"
   ]
  },
  {
   "cell_type": "code",
   "execution_count": 3,
   "metadata": {},
   "outputs": [
    {
     "data": {
      "text/plain": [
       "Index(['quarter', 'x', 'date'], dtype='object')"
      ]
     },
     "execution_count": 3,
     "metadata": {},
     "output_type": "execute_result"
    }
   ],
   "source": [
    "df.columns"
   ]
  },
  {
   "cell_type": "markdown",
   "metadata": {},
   "source": [
    "#### Index"
   ]
  },
  {
   "cell_type": "code",
   "execution_count": 4,
   "metadata": {},
   "outputs": [
    {
     "data": {
      "text/plain": [
       "RangeIndex(start=0, stop=5, step=1)"
      ]
     },
     "execution_count": 4,
     "metadata": {},
     "output_type": "execute_result"
    }
   ],
   "source": [
    "df.index"
   ]
  },
  {
   "cell_type": "markdown",
   "metadata": {},
   "source": [
    "Since we didn't explicitly set an index when we created the dataframe, it's just a sequence of numbers starting at 0. Indexes are actually a key concept in pandas and we'll talk a little bit more about them later. "
   ]
  },
  {
   "cell_type": "markdown",
   "metadata": {},
   "source": [
    "### Input: reading data from elsewhere\n",
    "\n",
    "Pandas can import dataframes from a variety of external sources like text files, JSON, Excel spreadsheets, APIs, and SQL databases. See the [input/output documentation](https://pandas.pydata.org/docs/reference/io.html) for more information.  \n",
    "\n",
    "We're going to read data on Estonian vehicle accidents from a comma-separated variable (CSV) file, one of the most common text file types for storing data.\n",
    "\n",
    "(The accidents data are from the [Estonian open data portal](https://avaandmed.eesti.ee).)"
   ]
  },
  {
   "cell_type": "code",
   "execution_count": 5,
   "metadata": {},
   "outputs": [],
   "source": [
    "accidents = pd.read_csv(\"data/estonia-traffic-accidents-clean.csv\")"
   ]
  },
  {
   "cell_type": "markdown",
   "metadata": {},
   "source": [
    "### Inspecting\n",
    "\n",
    "One of the first things we might want to do with a new dataset is to get our bearings on some basic characteristics of the data. "
   ]
  },
  {
   "cell_type": "markdown",
   "metadata": {},
   "source": [
    "#### How many rows and columns are there?"
   ]
  },
  {
   "cell_type": "code",
   "execution_count": 6,
   "metadata": {},
   "outputs": [
    {
     "data": {
      "text/plain": [
       "(14259, 8)"
      ]
     },
     "execution_count": 6,
     "metadata": {},
     "output_type": "execute_result"
    }
   ],
   "source": [
    "accidents.shape"
   ]
  },
  {
   "cell_type": "markdown",
   "metadata": {},
   "source": [
    "#### What are the column names?"
   ]
  },
  {
   "cell_type": "code",
   "execution_count": 7,
   "metadata": {},
   "outputs": [
    {
     "data": {
      "text/plain": [
       "Index(['date', 'persons_involved', 'killed', 'injured', 'county',\n",
       "       'pedestrian_involved', 'accident_type', 'light_conditions'],\n",
       "      dtype='object')"
      ]
     },
     "execution_count": 7,
     "metadata": {},
     "output_type": "execute_result"
    }
   ],
   "source": [
    "accidents.columns"
   ]
  },
  {
   "cell_type": "markdown",
   "metadata": {},
   "source": [
    "#### What does the data look like?"
   ]
  },
  {
   "cell_type": "code",
   "execution_count": 8,
   "metadata": {},
   "outputs": [
    {
     "data": {
      "text/html": [
       "<div>\n",
       "<style scoped>\n",
       "    .dataframe tbody tr th:only-of-type {\n",
       "        vertical-align: middle;\n",
       "    }\n",
       "\n",
       "    .dataframe tbody tr th {\n",
       "        vertical-align: top;\n",
       "    }\n",
       "\n",
       "    .dataframe thead th {\n",
       "        text-align: right;\n",
       "    }\n",
       "</style>\n",
       "<table border=\"1\" class=\"dataframe\">\n",
       "  <thead>\n",
       "    <tr style=\"text-align: right;\">\n",
       "      <th></th>\n",
       "      <th>date</th>\n",
       "      <th>persons_involved</th>\n",
       "      <th>killed</th>\n",
       "      <th>injured</th>\n",
       "      <th>county</th>\n",
       "      <th>pedestrian_involved</th>\n",
       "      <th>accident_type</th>\n",
       "      <th>light_conditions</th>\n",
       "    </tr>\n",
       "  </thead>\n",
       "  <tbody>\n",
       "    <tr>\n",
       "      <th>0</th>\n",
       "      <td>2014-10-24 08:45:00</td>\n",
       "      <td>2</td>\n",
       "      <td>0</td>\n",
       "      <td>1</td>\n",
       "      <td>Harju maakond</td>\n",
       "      <td>1</td>\n",
       "      <td>Jalakäijaõnnetus</td>\n",
       "      <td>Valge aeg</td>\n",
       "    </tr>\n",
       "    <tr>\n",
       "      <th>1</th>\n",
       "      <td>2014-10-24 13:45:00</td>\n",
       "      <td>2</td>\n",
       "      <td>0</td>\n",
       "      <td>1</td>\n",
       "      <td>Harju maakond</td>\n",
       "      <td>0</td>\n",
       "      <td>Kokkupõrge</td>\n",
       "      <td>Valge aeg</td>\n",
       "    </tr>\n",
       "    <tr>\n",
       "      <th>2</th>\n",
       "      <td>2014-08-11 00:00:00</td>\n",
       "      <td>2</td>\n",
       "      <td>0</td>\n",
       "      <td>1</td>\n",
       "      <td>Harju maakond</td>\n",
       "      <td>0</td>\n",
       "      <td>Kokkupõrge</td>\n",
       "      <td>Valge aeg</td>\n",
       "    </tr>\n",
       "    <tr>\n",
       "      <th>3</th>\n",
       "      <td>2014-11-17 17:32:00</td>\n",
       "      <td>2</td>\n",
       "      <td>0</td>\n",
       "      <td>2</td>\n",
       "      <td>Harju maakond</td>\n",
       "      <td>0</td>\n",
       "      <td>Kokkupõrge</td>\n",
       "      <td>Pimeda aeg</td>\n",
       "    </tr>\n",
       "    <tr>\n",
       "      <th>4</th>\n",
       "      <td>2015-04-28 07:55:00</td>\n",
       "      <td>2</td>\n",
       "      <td>0</td>\n",
       "      <td>1</td>\n",
       "      <td>Harju maakond</td>\n",
       "      <td>0</td>\n",
       "      <td>Kokkupõrge</td>\n",
       "      <td>Valge aeg</td>\n",
       "    </tr>\n",
       "  </tbody>\n",
       "</table>\n",
       "</div>"
      ],
      "text/plain": [
       "                  date  persons_involved  killed  injured         county  \\\n",
       "0  2014-10-24 08:45:00                 2       0        1  Harju maakond   \n",
       "1  2014-10-24 13:45:00                 2       0        1  Harju maakond   \n",
       "2  2014-08-11 00:00:00                 2       0        1  Harju maakond   \n",
       "3  2014-11-17 17:32:00                 2       0        2  Harju maakond   \n",
       "4  2015-04-28 07:55:00                 2       0        1  Harju maakond   \n",
       "\n",
       "   pedestrian_involved     accident_type light_conditions  \n",
       "0                    1  Jalakäijaõnnetus        Valge aeg  \n",
       "1                    0        Kokkupõrge        Valge aeg  \n",
       "2                    0        Kokkupõrge        Valge aeg  \n",
       "3                    0        Kokkupõrge       Pimeda aeg  \n",
       "4                    0        Kokkupõrge        Valge aeg  "
      ]
     },
     "execution_count": 8,
     "metadata": {},
     "output_type": "execute_result"
    }
   ],
   "source": [
    "accidents.head()"
   ]
  },
  {
   "cell_type": "markdown",
   "metadata": {},
   "source": [
    "#### Do we have missing data? What are the data types?"
   ]
  },
  {
   "cell_type": "code",
   "execution_count": 9,
   "metadata": {},
   "outputs": [
    {
     "name": "stdout",
     "output_type": "stream",
     "text": [
      "<class 'pandas.core.frame.DataFrame'>\n",
      "RangeIndex: 14259 entries, 0 to 14258\n",
      "Data columns (total 8 columns):\n",
      " #   Column               Non-Null Count  Dtype \n",
      "---  ------               --------------  ----- \n",
      " 0   date                 14259 non-null  object\n",
      " 1   persons_involved     14259 non-null  int64 \n",
      " 2   killed               14259 non-null  int64 \n",
      " 3   injured              14259 non-null  int64 \n",
      " 4   county               14259 non-null  object\n",
      " 5   pedestrian_involved  14259 non-null  int64 \n",
      " 6   accident_type        14259 non-null  object\n",
      " 7   light_conditions     14259 non-null  object\n",
      "dtypes: int64(4), object(4)\n",
      "memory usage: 891.3+ KB\n"
     ]
    }
   ],
   "source": [
    "accidents.info()"
   ]
  },
  {
   "cell_type": "markdown",
   "metadata": {},
   "source": [
    "We could also have used `accidents.dtypes` to get the data types.\n",
    "\n",
    "Note that, if you look back at the number of rows we looked up before, you'll notice that none of the columns have missing values, and that all but one of the data types look correct. This is because this is an already cleaned up version of the data. Below in this notebook you can also see what we did to clean up the data.   "
   ]
  },
  {
   "cell_type": "markdown",
   "metadata": {},
   "source": [
    "### Selecting columns\n",
    "\n",
    "There are various ways to do this, including the `<dataframe>.<column>` notation we used above. One alternative is the square bracket `<dataframe>.[]`:"
   ]
  },
  {
   "cell_type": "code",
   "execution_count": 10,
   "metadata": {},
   "outputs": [
    {
     "data": {
      "text/plain": [
       "0    2014-10-24 08:45:00\n",
       "1    2014-10-24 13:45:00\n",
       "2    2014-08-11 00:00:00\n",
       "3    2014-11-17 17:32:00\n",
       "4    2015-04-28 07:55:00\n",
       "Name: date, dtype: object"
      ]
     },
     "execution_count": 10,
     "metadata": {},
     "output_type": "execute_result"
    }
   ],
   "source": [
    "accidents[\"date\"].head()\n"
   ]
  },
  {
   "cell_type": "markdown",
   "metadata": {},
   "source": [
    "To select multiple columns we can use a list with the column names as the argument:"
   ]
  },
  {
   "cell_type": "code",
   "execution_count": 11,
   "metadata": {},
   "outputs": [
    {
     "data": {
      "text/html": [
       "<div>\n",
       "<style scoped>\n",
       "    .dataframe tbody tr th:only-of-type {\n",
       "        vertical-align: middle;\n",
       "    }\n",
       "\n",
       "    .dataframe tbody tr th {\n",
       "        vertical-align: top;\n",
       "    }\n",
       "\n",
       "    .dataframe thead th {\n",
       "        text-align: right;\n",
       "    }\n",
       "</style>\n",
       "<table border=\"1\" class=\"dataframe\">\n",
       "  <thead>\n",
       "    <tr style=\"text-align: right;\">\n",
       "      <th></th>\n",
       "      <th>date</th>\n",
       "      <th>county</th>\n",
       "    </tr>\n",
       "  </thead>\n",
       "  <tbody>\n",
       "    <tr>\n",
       "      <th>0</th>\n",
       "      <td>2014-10-24 08:45:00</td>\n",
       "      <td>Harju maakond</td>\n",
       "    </tr>\n",
       "    <tr>\n",
       "      <th>1</th>\n",
       "      <td>2014-10-24 13:45:00</td>\n",
       "      <td>Harju maakond</td>\n",
       "    </tr>\n",
       "    <tr>\n",
       "      <th>2</th>\n",
       "      <td>2014-08-11 00:00:00</td>\n",
       "      <td>Harju maakond</td>\n",
       "    </tr>\n",
       "    <tr>\n",
       "      <th>3</th>\n",
       "      <td>2014-11-17 17:32:00</td>\n",
       "      <td>Harju maakond</td>\n",
       "    </tr>\n",
       "    <tr>\n",
       "      <th>4</th>\n",
       "      <td>2015-04-28 07:55:00</td>\n",
       "      <td>Harju maakond</td>\n",
       "    </tr>\n",
       "  </tbody>\n",
       "</table>\n",
       "</div>"
      ],
      "text/plain": [
       "                  date         county\n",
       "0  2014-10-24 08:45:00  Harju maakond\n",
       "1  2014-10-24 13:45:00  Harju maakond\n",
       "2  2014-08-11 00:00:00  Harju maakond\n",
       "3  2014-11-17 17:32:00  Harju maakond\n",
       "4  2015-04-28 07:55:00  Harju maakond"
      ]
     },
     "execution_count": 11,
     "metadata": {},
     "output_type": "execute_result"
    }
   ],
   "source": [
    "accidents[[\"date\", \"county\"]].head()"
   ]
  },
  {
   "cell_type": "markdown",
   "metadata": {},
   "source": [
    "### Mutating columns\n",
    "\n",
    "The dateas are currently stored as strings (`object`). We should fix that. \n",
    "\n",
    "(pandas uses the `object` data types by default for strings, even though this can store arbitrary Python objects. This is for historical reasons related to originally being built on top of numpy. [More on pandas text data types.](https://pandas.pydata.org/docs/user_guide/text.html))"
   ]
  },
  {
   "cell_type": "code",
   "execution_count": 12,
   "metadata": {},
   "outputs": [
    {
     "data": {
      "text/plain": [
       "'2014-10-24 08:45:00'"
      ]
     },
     "execution_count": 12,
     "metadata": {},
     "output_type": "execute_result"
    }
   ],
   "source": [
    "accidents[\"date\"][0]"
   ]
  },
  {
   "cell_type": "code",
   "execution_count": 13,
   "metadata": {},
   "outputs": [
    {
     "data": {
      "text/plain": [
       "str"
      ]
     },
     "execution_count": 13,
     "metadata": {},
     "output_type": "execute_result"
    }
   ],
   "source": [
    "type(accidents[\"date\"][0])"
   ]
  },
  {
   "cell_type": "code",
   "execution_count": 14,
   "metadata": {},
   "outputs": [
    {
     "data": {
      "text/plain": [
       "Timestamp('2014-10-24 08:45:00')"
      ]
     },
     "execution_count": 14,
     "metadata": {},
     "output_type": "execute_result"
    }
   ],
   "source": [
    "accidents[\"date\"] = pd.to_datetime(accidents[\"date\"])\n",
    "accidents[\"date\"][0]"
   ]
  },
  {
   "cell_type": "markdown",
   "metadata": {},
   "source": [
    "### Sidebar: Pandas Series\n",
    "\n",
    "Let's spend a hot second looking at an individual series. "
   ]
  },
  {
   "cell_type": "code",
   "execution_count": 15,
   "metadata": {},
   "outputs": [
    {
     "data": {
      "text/plain": [
       "pandas.core.series.Series"
      ]
     },
     "execution_count": 15,
     "metadata": {},
     "output_type": "execute_result"
    }
   ],
   "source": [
    "dates = accidents[\"date\"]\n",
    "type(dates)"
   ]
  },
  {
   "cell_type": "markdown",
   "metadata": {},
   "source": [
    "#### What date range does the data cover?\n",
    "\n",
    "Series have their own methods..."
   ]
  },
  {
   "cell_type": "code",
   "execution_count": 16,
   "metadata": {},
   "outputs": [
    {
     "name": "stdout",
     "output_type": "stream",
     "text": [
      "First accident: 2011-01-05 00:00:00\n",
      "Last accident: 2021-12-31 23:45:00\n"
     ]
    }
   ],
   "source": [
    "start = accidents[\"date\"].min()\n",
    "end = accidents[\"date\"].max()\n",
    "print(f\"First accident: {start}\\nLast accident: {end}\")"
   ]
  },
  {
   "cell_type": "markdown",
   "metadata": {},
   "source": [
    "#### What types of accidents were there?\n",
    "\n",
    "The `Series.value_counts()` method is a quite useful method for tabulating categorical variables:"
   ]
  },
  {
   "cell_type": "code",
   "execution_count": 17,
   "metadata": {},
   "outputs": [
    {
     "data": {
      "text/plain": [
       "accident_type\n",
       "Kokkupõrge            5605\n",
       "Ühesõidukiõnnetus     3946\n",
       "Jalakäijaõnnetus      3386\n",
       "Muu liiklusõnnetus    1262\n",
       "Teadmata                60\n",
       "Name: count, dtype: int64"
      ]
     },
     "execution_count": 17,
     "metadata": {},
     "output_type": "execute_result"
    }
   ],
   "source": [
    "accidents[\"accident_type\"].value_counts()"
   ]
  },
  {
   "cell_type": "markdown",
   "metadata": {},
   "source": [
    "#### Filter rows\n",
    "\n",
    "Oftentimes we don't need all rows in a dataframe to answer a specific question. This is commonly called filtering or subsetting rows. "
   ]
  },
  {
   "cell_type": "markdown",
   "metadata": {},
   "source": [
    "#### How many of the accidents were in Harju county?\n",
    "\n",
    "We have a \"county\" column, so we can use that to look at only Harju county. As with selecting columns, there are multiple ways to do this in pandas. One of the basic ones is to again use the `<dataframe>.[]` square brackets."
   ]
  },
  {
   "cell_type": "code",
   "execution_count": 18,
   "metadata": {},
   "outputs": [
    {
     "data": {
      "text/plain": [
       "(7000, 8)"
      ]
     },
     "execution_count": 18,
     "metadata": {},
     "output_type": "execute_result"
    }
   ],
   "source": [
    "\n",
    "accidents[accidents[\"county\"] == \"Harju maakond\"].shape"
   ]
  },
  {
   "cell_type": "markdown",
   "metadata": {},
   "source": [
    "Another sidebar -- Why does this work? The part inside the outer square brackets creates a boolean vector:"
   ]
  },
  {
   "cell_type": "code",
   "execution_count": 19,
   "metadata": {},
   "outputs": [
    {
     "data": {
      "text/plain": [
       "0         True\n",
       "1         True\n",
       "2         True\n",
       "3         True\n",
       "4         True\n",
       "         ...  \n",
       "14254    False\n",
       "14255    False\n",
       "14256     True\n",
       "14257    False\n",
       "14258    False\n",
       "Name: county, Length: 14259, dtype: bool"
      ]
     },
     "execution_count": 19,
     "metadata": {},
     "output_type": "execute_result"
    }
   ],
   "source": [
    "accidents[\"county\"] == \"Harju maakond\""
   ]
  },
  {
   "cell_type": "markdown",
   "metadata": {},
   "source": [
    "When we pass this boolean vector to the square brackets, it uses it to filter rows. Rather than select columns, like it did with `accidents[\"county\"]. \n",
    "\n",
    "Yeah, it's weird and inconsistent, which is one of the things people complain about with pandas.  \n",
    "\n",
    "What's more, there are many more ways to select and filter. See the [\"Indexing and selecting data\"](https://pandas.pydata.org/pandas-docs/stable/user_guide/indexing.html) documentation for all the various methods pandas has, both for column selecting and row filtering. "
   ]
  },
  {
   "cell_type": "markdown",
   "metadata": {},
   "source": [
    "### Mutate: add a new column\n",
    "\n",
    "We've covered how to alter an existing column. We can actually use the same method to add a new column. "
   ]
  },
  {
   "cell_type": "markdown",
   "metadata": {},
   "source": [
    "#### How many people were killed or injured, overall?\n",
    "\n"
   ]
  },
  {
   "cell_type": "code",
   "execution_count": 20,
   "metadata": {},
   "outputs": [
    {
     "data": {
      "text/html": [
       "<div>\n",
       "<style scoped>\n",
       "    .dataframe tbody tr th:only-of-type {\n",
       "        vertical-align: middle;\n",
       "    }\n",
       "\n",
       "    .dataframe tbody tr th {\n",
       "        vertical-align: top;\n",
       "    }\n",
       "\n",
       "    .dataframe thead th {\n",
       "        text-align: right;\n",
       "    }\n",
       "</style>\n",
       "<table border=\"1\" class=\"dataframe\">\n",
       "  <thead>\n",
       "    <tr style=\"text-align: right;\">\n",
       "      <th></th>\n",
       "      <th>killed</th>\n",
       "      <th>injured</th>\n",
       "      <th>killed_or_injured</th>\n",
       "    </tr>\n",
       "  </thead>\n",
       "  <tbody>\n",
       "    <tr>\n",
       "      <th>0</th>\n",
       "      <td>0</td>\n",
       "      <td>1</td>\n",
       "      <td>1</td>\n",
       "    </tr>\n",
       "    <tr>\n",
       "      <th>1</th>\n",
       "      <td>0</td>\n",
       "      <td>1</td>\n",
       "      <td>1</td>\n",
       "    </tr>\n",
       "    <tr>\n",
       "      <th>2</th>\n",
       "      <td>0</td>\n",
       "      <td>1</td>\n",
       "      <td>1</td>\n",
       "    </tr>\n",
       "    <tr>\n",
       "      <th>3</th>\n",
       "      <td>0</td>\n",
       "      <td>2</td>\n",
       "      <td>2</td>\n",
       "    </tr>\n",
       "    <tr>\n",
       "      <th>4</th>\n",
       "      <td>0</td>\n",
       "      <td>1</td>\n",
       "      <td>1</td>\n",
       "    </tr>\n",
       "  </tbody>\n",
       "</table>\n",
       "</div>"
      ],
      "text/plain": [
       "   killed  injured  killed_or_injured\n",
       "0       0        1                  1\n",
       "1       0        1                  1\n",
       "2       0        1                  1\n",
       "3       0        2                  2\n",
       "4       0        1                  1"
      ]
     },
     "execution_count": 20,
     "metadata": {},
     "output_type": "execute_result"
    }
   ],
   "source": [
    "accidents[\"killed_or_injured\"] = accidents[\"killed\"] + accidents[\"injured\"]\n",
    "\n",
    "accidents[['killed', 'injured', 'killed_or_injured']].head()\n"
   ]
  },
  {
   "cell_type": "code",
   "execution_count": 21,
   "metadata": {},
   "outputs": [
    {
     "data": {
      "text/plain": [
       "np.int64(18021)"
      ]
     },
     "execution_count": 21,
     "metadata": {},
     "output_type": "execute_result"
    }
   ],
   "source": [
    "accidents[\"killed_or_injured\"].sum()"
   ]
  },
  {
   "cell_type": "markdown",
   "metadata": {},
   "source": [
    "### Group and summarize\n",
    "\n",
    "Oftentimes we want to summarize our data over some group that is defined by one of the variables. To do this we usually want to use a combination of `groupby` and `agg`."
   ]
  },
  {
   "cell_type": "markdown",
   "metadata": {},
   "source": [
    "#### How many people were harmed, by accident type?"
   ]
  },
  {
   "cell_type": "code",
   "execution_count": 22,
   "metadata": {},
   "outputs": [
    {
     "data": {
      "text/html": [
       "<div>\n",
       "<style scoped>\n",
       "    .dataframe tbody tr th:only-of-type {\n",
       "        vertical-align: middle;\n",
       "    }\n",
       "\n",
       "    .dataframe tbody tr th {\n",
       "        vertical-align: top;\n",
       "    }\n",
       "\n",
       "    .dataframe thead th {\n",
       "        text-align: right;\n",
       "    }\n",
       "</style>\n",
       "<table border=\"1\" class=\"dataframe\">\n",
       "  <thead>\n",
       "    <tr style=\"text-align: right;\">\n",
       "      <th></th>\n",
       "      <th>killed_or_injured</th>\n",
       "    </tr>\n",
       "    <tr>\n",
       "      <th>accident_type</th>\n",
       "      <th></th>\n",
       "    </tr>\n",
       "  </thead>\n",
       "  <tbody>\n",
       "    <tr>\n",
       "      <th>Jalakäijaõnnetus</th>\n",
       "      <td>3548</td>\n",
       "    </tr>\n",
       "    <tr>\n",
       "      <th>Kokkupõrge</th>\n",
       "      <td>7951</td>\n",
       "    </tr>\n",
       "    <tr>\n",
       "      <th>Muu liiklusõnnetus</th>\n",
       "      <td>1436</td>\n",
       "    </tr>\n",
       "    <tr>\n",
       "      <th>Teadmata</th>\n",
       "      <td>70</td>\n",
       "    </tr>\n",
       "    <tr>\n",
       "      <th>Ühesõidukiõnnetus</th>\n",
       "      <td>5016</td>\n",
       "    </tr>\n",
       "  </tbody>\n",
       "</table>\n",
       "</div>"
      ],
      "text/plain": [
       "                    killed_or_injured\n",
       "accident_type                        \n",
       "Jalakäijaõnnetus                 3548\n",
       "Kokkupõrge                       7951\n",
       "Muu liiklusõnnetus               1436\n",
       "Teadmata                           70\n",
       "Ühesõidukiõnnetus                5016"
      ]
     },
     "execution_count": 22,
     "metadata": {},
     "output_type": "execute_result"
    }
   ],
   "source": [
    "# summarize total accidents by something\n",
    "by_type = accidents.groupby(\"accident_type\").agg({\"killed_or_injured\": \"sum\"})\n",
    "by_type\n"
   ]
  },
  {
   "cell_type": "markdown",
   "metadata": {},
   "source": [
    "### (Optional) More on Indexes\n",
    "\n",
    "In the table above, you might noticed that the \"accident_type\" is now for some reason shown differently from the \"killed_or_injured\" variable. Indeed, if we check the columns, it's not there anymore:"
   ]
  },
  {
   "cell_type": "code",
   "execution_count": 23,
   "metadata": {},
   "outputs": [
    {
     "data": {
      "text/plain": [
       "Index(['killed_or_injured'], dtype='object')"
      ]
     },
     "execution_count": 23,
     "metadata": {},
     "output_type": "execute_result"
    }
   ],
   "source": [
    "by_type.columns"
   ]
  },
  {
   "cell_type": "markdown",
   "metadata": {},
   "source": [
    "What happened is that when we did the group by and agg, pandas moved \"accident_type\" to the Index. "
   ]
  },
  {
   "cell_type": "code",
   "execution_count": 24,
   "metadata": {},
   "outputs": [
    {
     "data": {
      "text/plain": [
       "Index(['Jalakäijaõnnetus', 'Kokkupõrge', 'Muu liiklusõnnetus', 'Teadmata',\n",
       "       'Ühesõidukiõnnetus'],\n",
       "      dtype='object', name='accident_type')"
      ]
     },
     "execution_count": 24,
     "metadata": {},
     "output_type": "execute_result"
    }
   ],
   "source": [
    "by_type.index"
   ]
  },
  {
   "cell_type": "markdown",
   "metadata": {},
   "source": [
    "Since we hadn't set an index when we imported the data from CSV, this previously was just an integer count from 0, which you can see above when we showed the first few rows of the data with `head()`. Now it's \"accident_type\".\n",
    "\n",
    "pandas extensively uses indexes for various operations. There are event [hierarchical MultiIndexes](https://pandas.pydata.org/docs/user_guide/advanced.html) that consist of more than one variable. \n",
    "\n",
    "There are really only two important things to know about pandas Indexes. \n",
    "\n",
    "First, there are two kinds of pandas users:\n",
    "\n",
    "1. Those that love indexes and use them extensively. Such index powerusers are rumored to exist, at least they say.\n",
    "2. People like me who don't use them unless forced to. \n",
    "\n",
    "Second, indexes are like variables, but moved to the row labels. You can move them back and forth with two functions:\n",
    "\n",
    "- `set_index(<keys>)`: move columns to the index; <keys> can be a column name or list of names. \n",
    "- `reset_index()`: move the variables in the current index back to the dataframe as columns."
   ]
  },
  {
   "cell_type": "markdown",
   "metadata": {},
   "source": [
    "#### How many people were harmed, by year?\n",
    "\n",
    "To further explore this, let's look at the number of people harmed, by year."
   ]
  },
  {
   "cell_type": "code",
   "execution_count": 25,
   "metadata": {},
   "outputs": [
    {
     "data": {
      "text/html": [
       "<div>\n",
       "<style scoped>\n",
       "    .dataframe tbody tr th:only-of-type {\n",
       "        vertical-align: middle;\n",
       "    }\n",
       "\n",
       "    .dataframe tbody tr th {\n",
       "        vertical-align: top;\n",
       "    }\n",
       "\n",
       "    .dataframe thead th {\n",
       "        text-align: right;\n",
       "    }\n",
       "</style>\n",
       "<table border=\"1\" class=\"dataframe\">\n",
       "  <thead>\n",
       "    <tr style=\"text-align: right;\">\n",
       "      <th></th>\n",
       "      <th>killed_or_injured</th>\n",
       "      <th>persons_involved</th>\n",
       "    </tr>\n",
       "    <tr>\n",
       "      <th>date</th>\n",
       "      <th></th>\n",
       "      <th></th>\n",
       "    </tr>\n",
       "  </thead>\n",
       "  <tbody>\n",
       "    <tr>\n",
       "      <th>2011-12-31</th>\n",
       "      <td>533</td>\n",
       "      <td>722</td>\n",
       "    </tr>\n",
       "    <tr>\n",
       "      <th>2012-12-31</th>\n",
       "      <td>1713</td>\n",
       "      <td>2289</td>\n",
       "    </tr>\n",
       "    <tr>\n",
       "      <th>2013-12-31</th>\n",
       "      <td>1714</td>\n",
       "      <td>2271</td>\n",
       "    </tr>\n",
       "    <tr>\n",
       "      <th>2014-12-31</th>\n",
       "      <td>1758</td>\n",
       "      <td>2429</td>\n",
       "    </tr>\n",
       "    <tr>\n",
       "      <th>2015-12-31</th>\n",
       "      <td>1773</td>\n",
       "      <td>2859</td>\n",
       "    </tr>\n",
       "  </tbody>\n",
       "</table>\n",
       "</div>"
      ],
      "text/plain": [
       "            killed_or_injured  persons_involved\n",
       "date                                           \n",
       "2011-12-31                533               722\n",
       "2012-12-31               1713              2289\n",
       "2013-12-31               1714              2271\n",
       "2014-12-31               1758              2429\n",
       "2015-12-31               1773              2859"
      ]
     },
     "execution_count": 25,
     "metadata": {},
     "output_type": "execute_result"
    }
   ],
   "source": [
    "by_year = (accidents\n",
    "           .loc[:, [\"date\", \"killed_or_injured\", \"persons_involved\"]]\n",
    "           .resample(rule=\"YE\", on=\"date\")\n",
    "           .sum()\n",
    ")\n",
    "\n",
    "by_year.head()\n"
   ]
  },
  {
   "cell_type": "markdown",
   "metadata": {},
   "source": [
    "This uses a bit more complicated code we won't explain in more detail. [`.loc[]`](https://pandas.pydata.org/docs/reference/api/pandas.DataFrame.loc.html) is on the of the alternative select/filter methods. [`resample()`](https://pandas.pydata.org/docs/reference/api/pandas.DataFrame.resample.html) is like `groupby()` but for time series. Because the code is quite long for one line, we do something called method chaining, where we put each new method call on a new line. This requires wrapping the whole statement in parentheses."
   ]
  },
  {
   "cell_type": "markdown",
   "metadata": {},
   "source": [
    "The date column has been moved to the index. Since we've aggregated the data to yearly, it would be nice, e.g. for plotting, if we just had the years in a column, not the misleading full date times. "
   ]
  },
  {
   "cell_type": "code",
   "execution_count": 26,
   "metadata": {},
   "outputs": [
    {
     "data": {
      "text/html": [
       "<div>\n",
       "<style scoped>\n",
       "    .dataframe tbody tr th:only-of-type {\n",
       "        vertical-align: middle;\n",
       "    }\n",
       "\n",
       "    .dataframe tbody tr th {\n",
       "        vertical-align: top;\n",
       "    }\n",
       "\n",
       "    .dataframe thead th {\n",
       "        text-align: right;\n",
       "    }\n",
       "</style>\n",
       "<table border=\"1\" class=\"dataframe\">\n",
       "  <thead>\n",
       "    <tr style=\"text-align: right;\">\n",
       "      <th></th>\n",
       "      <th>date</th>\n",
       "      <th>killed_or_injured</th>\n",
       "      <th>persons_involved</th>\n",
       "    </tr>\n",
       "  </thead>\n",
       "  <tbody>\n",
       "    <tr>\n",
       "      <th>0</th>\n",
       "      <td>2011-12-31</td>\n",
       "      <td>533</td>\n",
       "      <td>722</td>\n",
       "    </tr>\n",
       "    <tr>\n",
       "      <th>1</th>\n",
       "      <td>2012-12-31</td>\n",
       "      <td>1713</td>\n",
       "      <td>2289</td>\n",
       "    </tr>\n",
       "    <tr>\n",
       "      <th>2</th>\n",
       "      <td>2013-12-31</td>\n",
       "      <td>1714</td>\n",
       "      <td>2271</td>\n",
       "    </tr>\n",
       "    <tr>\n",
       "      <th>3</th>\n",
       "      <td>2014-12-31</td>\n",
       "      <td>1758</td>\n",
       "      <td>2429</td>\n",
       "    </tr>\n",
       "    <tr>\n",
       "      <th>4</th>\n",
       "      <td>2015-12-31</td>\n",
       "      <td>1773</td>\n",
       "      <td>2859</td>\n",
       "    </tr>\n",
       "  </tbody>\n",
       "</table>\n",
       "</div>"
      ],
      "text/plain": [
       "        date  killed_or_injured  persons_involved\n",
       "0 2011-12-31                533               722\n",
       "1 2012-12-31               1713              2289\n",
       "2 2013-12-31               1714              2271\n",
       "3 2014-12-31               1758              2429\n",
       "4 2015-12-31               1773              2859"
      ]
     },
     "execution_count": 26,
     "metadata": {},
     "output_type": "execute_result"
    }
   ],
   "source": [
    "# Move date back to a column; note how we get a new dummy 0,1,... index\n",
    "by_year = by_year.reset_index()\n",
    "by_year.head()"
   ]
  },
  {
   "cell_type": "code",
   "execution_count": 27,
   "metadata": {},
   "outputs": [
    {
     "data": {
      "text/plain": [
       "0    2011\n",
       "1    2012\n",
       "2    2013\n",
       "3    2014\n",
       "4    2015\n",
       "Name: date, dtype: int32"
      ]
     },
     "execution_count": 27,
     "metadata": {},
     "output_type": "execute_result"
    }
   ],
   "source": [
    "# To extract the year from the date we can use this:\n",
    "by_year[\"date\"].dt.year.head()"
   ]
  },
  {
   "cell_type": "code",
   "execution_count": 28,
   "metadata": {},
   "outputs": [
    {
     "data": {
      "text/html": [
       "<div>\n",
       "<style scoped>\n",
       "    .dataframe tbody tr th:only-of-type {\n",
       "        vertical-align: middle;\n",
       "    }\n",
       "\n",
       "    .dataframe tbody tr th {\n",
       "        vertical-align: top;\n",
       "    }\n",
       "\n",
       "    .dataframe thead th {\n",
       "        text-align: right;\n",
       "    }\n",
       "</style>\n",
       "<table border=\"1\" class=\"dataframe\">\n",
       "  <thead>\n",
       "    <tr style=\"text-align: right;\">\n",
       "      <th></th>\n",
       "      <th>year</th>\n",
       "      <th>persons_involved</th>\n",
       "      <th>killed_or_injured</th>\n",
       "    </tr>\n",
       "  </thead>\n",
       "  <tbody>\n",
       "    <tr>\n",
       "      <th>0</th>\n",
       "      <td>2011</td>\n",
       "      <td>722</td>\n",
       "      <td>533</td>\n",
       "    </tr>\n",
       "    <tr>\n",
       "      <th>1</th>\n",
       "      <td>2012</td>\n",
       "      <td>2289</td>\n",
       "      <td>1713</td>\n",
       "    </tr>\n",
       "    <tr>\n",
       "      <th>2</th>\n",
       "      <td>2013</td>\n",
       "      <td>2271</td>\n",
       "      <td>1714</td>\n",
       "    </tr>\n",
       "    <tr>\n",
       "      <th>3</th>\n",
       "      <td>2014</td>\n",
       "      <td>2429</td>\n",
       "      <td>1758</td>\n",
       "    </tr>\n",
       "    <tr>\n",
       "      <th>4</th>\n",
       "      <td>2015</td>\n",
       "      <td>2859</td>\n",
       "      <td>1773</td>\n",
       "    </tr>\n",
       "    <tr>\n",
       "      <th>5</th>\n",
       "      <td>2016</td>\n",
       "      <td>3171</td>\n",
       "      <td>1874</td>\n",
       "    </tr>\n",
       "    <tr>\n",
       "      <th>6</th>\n",
       "      <td>2017</td>\n",
       "      <td>2906</td>\n",
       "      <td>1725</td>\n",
       "    </tr>\n",
       "    <tr>\n",
       "      <th>7</th>\n",
       "      <td>2018</td>\n",
       "      <td>3131</td>\n",
       "      <td>1886</td>\n",
       "    </tr>\n",
       "    <tr>\n",
       "      <th>8</th>\n",
       "      <td>2019</td>\n",
       "      <td>2923</td>\n",
       "      <td>1752</td>\n",
       "    </tr>\n",
       "    <tr>\n",
       "      <th>9</th>\n",
       "      <td>2020</td>\n",
       "      <td>2577</td>\n",
       "      <td>1592</td>\n",
       "    </tr>\n",
       "    <tr>\n",
       "      <th>10</th>\n",
       "      <td>2021</td>\n",
       "      <td>2735</td>\n",
       "      <td>1701</td>\n",
       "    </tr>\n",
       "  </tbody>\n",
       "</table>\n",
       "</div>"
      ],
      "text/plain": [
       "    year  persons_involved  killed_or_injured\n",
       "0   2011               722                533\n",
       "1   2012              2289               1713\n",
       "2   2013              2271               1714\n",
       "3   2014              2429               1758\n",
       "4   2015              2859               1773\n",
       "5   2016              3171               1874\n",
       "6   2017              2906               1725\n",
       "7   2018              3131               1886\n",
       "8   2019              2923               1752\n",
       "9   2020              2577               1592\n",
       "10  2021              2735               1701"
      ]
     },
     "execution_count": 28,
     "metadata": {},
     "output_type": "execute_result"
    }
   ],
   "source": [
    "# Create a new column with the year\n",
    "by_year[\"year\"] = by_year[\"date\"].dt.year\n",
    "# Drop the date column; we could also do this by selecting all columns but\n",
    "# the one we want to drop, but this is more explicit\n",
    "by_year = by_year.drop(\"date\", axis=1)\n",
    "# bring year to the first position\n",
    "by_year = by_year[[\"year\", \"persons_involved\", \"killed_or_injured\"]]\n",
    "by_year"
   ]
  },
  {
   "cell_type": "markdown",
   "metadata": {},
   "source": [
    "### (Optional) Cleaning the accidents data\n",
    "\n",
    "We mentioned above that the accidents data is already pretty clean. That's because we did the below to clean it up. If you're curious about this (great!), you can add more code cells and copy/paste each segment so you can see some intermediary output as well. "
   ]
  },
  {
   "cell_type": "code",
   "execution_count": 29,
   "metadata": {},
   "outputs": [
    {
     "name": "stdout",
     "output_type": "stream",
     "text": [
      "<class 'pandas.core.frame.DataFrame'>\n",
      "RangeIndex: 15708 entries, 0 to 15707\n",
      "Data columns (total 53 columns):\n",
      " #   Column                                         Non-Null Count  Dtype  \n",
      "---  ------                                         --------------  -----  \n",
      " 0   Juhtumi nr                                     15708 non-null  object \n",
      " 1   Toimumisaeg                                    15708 non-null  object \n",
      " 2   Isikuid                                        15633 non-null  float64\n",
      " 3   Hukkunuid                                      15708 non-null  int64  \n",
      " 4   Vigastatuid                                    15708 non-null  int64  \n",
      " 5   Sõidukeid                                      15633 non-null  float64\n",
      " 6   Aadress (PPA)                                  14601 non-null  object \n",
      " 7   Maja nr (PPA)                                  6686 non-null   object \n",
      " 8   Tänav (PPA)                                    14012 non-null  object \n",
      " 9   Ristuv tänav (PPA)                             2757 non-null   object \n",
      " 10  Maakond (PPA)                                  14676 non-null  object \n",
      " 11  Omavalitsus (PPA)                              14670 non-null  object \n",
      " 12  Asustus (PPA)                                  8822 non-null   object \n",
      " 13  Asula                                          15708 non-null  object \n",
      " 14  Liiklusõnnetuse liik [1]                       15708 non-null  object \n",
      " 15  Liiklusõnnetuse liik [3]                       15708 non-null  object \n",
      " 16  Kergliikurijuhi osalusel                       15563 non-null  float64\n",
      " 17  Jalakäija osalusel                             15563 non-null  float64\n",
      " 18  Kaassõitja osalusel                            15563 non-null  float64\n",
      " 19  Maastikusõiduki juhi osalusel                  15563 non-null  float64\n",
      " 20  Eaka (65+) mootorsõidukijuhi osalusel          15563 non-null  float64\n",
      " 21  Bussijuhi osalusel                             15563 non-null  float64\n",
      " 22  Veoautojuhi osalusel                           15563 non-null  float64\n",
      " 23  Ühissõidukijuhi osalusel                       15563 non-null  float64\n",
      " 24  Sõiduautojuhi osalusel                         15563 non-null  float64\n",
      " 25  Mootorratturi osalusel                         15563 non-null  float64\n",
      " 26  Mopeedijuhi osalusel                           15563 non-null  float64\n",
      " 27  Jalgratturi osalusel                           15563 non-null  float64\n",
      " 28  Alaealise osalusel                             15563 non-null  float64\n",
      " 29  Turvavarustust mitte kasutanud isiku osalusel  15563 non-null  float64\n",
      " 30  Esmase juhiloa omaniku osalusel                15563 non-null  float64\n",
      " 31  Mootorsõidukijuhi osalusel                     15563 non-null  float64\n",
      " 32  Tüüpskeemi nr                                  15245 non-null  float64\n",
      " 33  Tüüpskeem [2]                                  15245 non-null  object \n",
      " 34  Tee tüüp [1]                                   15581 non-null  object \n",
      " 35  Tee tüüp [2]                                   15581 non-null  object \n",
      " 36  Tee element [1]                                15128 non-null  object \n",
      " 37  Tee element [2]                                15128 non-null  object \n",
      " 38  Tee objekt [2]                                 15169 non-null  object \n",
      " 39  Kurvilisus                                     15199 non-null  object \n",
      " 40  Tee tasasus                                    15265 non-null  object \n",
      " 41  Tee seisund                                    15310 non-null  object \n",
      " 42  Teekate                                        15406 non-null  object \n",
      " 43  Teekatte seisund [2]                           15356 non-null  object \n",
      " 44  Sõiduradade arv                                4182 non-null   object \n",
      " 45  Lubatud sõidukiirus (PPA)                      15164 non-null  float64\n",
      " 46  Tee nr (PPA)                                   4749 non-null   float64\n",
      " 47  Tee km (PPA)                                   4754 non-null   object \n",
      " 48  Ilmastik [1]                                   15357 non-null  object \n",
      " 49  Valgustus [1]                                  15396 non-null  object \n",
      " 50  Valgustus [2]                                  15396 non-null  object \n",
      " 51  GPS X                                          13464 non-null  float64\n",
      " 52  GPS Y                                          13459 non-null  float64\n",
      "dtypes: float64(23), int64(2), object(28)\n",
      "memory usage: 6.4+ MB\n"
     ]
    }
   ],
   "source": [
    "import dateparser  # for fixing the raw dates\n",
    "\n",
    "accidents = pd.read_csv(\"data/estonia-traffic-accidents.csv\")\n",
    "\n",
    "accidents.head()\n",
    "\n",
    "accidents.info()\n",
    "\n",
    "# Let's only keep a couple of columns for the workshop\n",
    "keep = [\"Toimumisaeg\", \"Isikuid\", \"Hukkunuid\", \"Vigastatuid\", \"Maakond (PPA)\",\n",
    "        \"Jalakäija osalusel\", \"Liiklusõnnetuse liik [1]\", \"Valgustus [1]\"]\n",
    "accidents = accidents[keep]\n",
    "\n",
    "# Translate the column names to English\n",
    "translate_columns = {\"Toimumisaeg\": \"date\", \"Isikuid\": \"persons_involved\", \n",
    "                     \"Hukkunuid\": \"killed\", \"Vigastatuid\": \"injured\", \n",
    "                     \"Maakond (PPA)\": \"county\", \n",
    "                     \"Jalakäija osalusel\": \"pedestrian_involved\", \n",
    "                     \"Liiklusõnnetuse liik [1]\": \"accident_type\", \n",
    "                     \"Valgustus [1]\": \"light_conditions\"}\n",
    "accidents = accidents.rename(columns=translate_columns)\n",
    "\n",
    "# The original dates have a mix of formats. We're going to use the dateparser\n",
    "# library to help parse these. \n",
    "accidents[\"date\"] = accidents[\"date\"].apply(lambda x: dateparser.parse(x, languages=[\"en\"]))\n",
    "\n",
    "# We've got missing data in several columns. Let's drop those rows.\n",
    "# Usually you'd want to investigate what is missing and why, but it's fine\n",
    "# for the workshop since we are just illustrating, not trying to learn anything\n",
    "# about traffic accidents. \n",
    "accidents.isna().sum()\n",
    "accidents = accidents.dropna()\n",
    "\n",
    "# Some of the columns are float but should be integer values.\n",
    "accidents = accidents.astype({\"persons_involved\": \"int64\",\n",
    "                              \"pedestrian_involved\": \"int64\"})\n",
    "\n",
    "# write out the cleaned data. \n",
    "# accidents.to_csv(\"data/estonia-traffic-accidents-clean.csv\", index=False)\n"
   ]
  },
  {
   "cell_type": "markdown",
   "metadata": {},
   "source": [
    "## Section 2: polars\n",
    "\n",
    "Polars is a more recent dataframe library, written on top of Rust, which has been gaining a lot of traction. It uses a very different philosopy and style for the API. Both of those (being written in Rust and the API) allow it to be faster and more memory efficient than pandas. It also works out of the box with data that is too large to fit into memory. \n",
    "\n",
    "<div>\n",
    "<img src=\"https://www.pola.rs/share.jpg\" width=\"600\"/>\n",
    "</div> \n"
   ]
  },
  {
   "cell_type": "markdown",
   "metadata": {},
   "source": [
    "### Getting started\n",
    "\n",
    "Let's redo some of the common dataframe operations we did above, using the accidents data. "
   ]
  },
  {
   "cell_type": "code",
   "execution_count": 30,
   "metadata": {},
   "outputs": [
    {
     "data": {
      "text/html": [
       "<div><style>\n",
       ".dataframe > thead > tr,\n",
       ".dataframe > tbody > tr {\n",
       "  text-align: right;\n",
       "  white-space: pre-wrap;\n",
       "}\n",
       "</style>\n",
       "<small>shape: (5, 8)</small><table border=\"1\" class=\"dataframe\"><thead><tr><th>date</th><th>persons_involved</th><th>killed</th><th>injured</th><th>county</th><th>pedestrian_involved</th><th>accident_type</th><th>light_conditions</th></tr><tr><td>str</td><td>i64</td><td>i64</td><td>i64</td><td>str</td><td>i64</td><td>str</td><td>str</td></tr></thead><tbody><tr><td>&quot;2014-10-24&nbsp;08:45:00&quot;</td><td>2</td><td>0</td><td>1</td><td>&quot;Harju&nbsp;maakond&quot;</td><td>1</td><td>&quot;Jalakäijaõnnetus&quot;</td><td>&quot;Valge&nbsp;aeg&quot;</td></tr><tr><td>&quot;2014-10-24&nbsp;13:45:00&quot;</td><td>2</td><td>0</td><td>1</td><td>&quot;Harju&nbsp;maakond&quot;</td><td>0</td><td>&quot;Kokkupõrge&quot;</td><td>&quot;Valge&nbsp;aeg&quot;</td></tr><tr><td>&quot;2014-08-11&nbsp;00:00:00&quot;</td><td>2</td><td>0</td><td>1</td><td>&quot;Harju&nbsp;maakond&quot;</td><td>0</td><td>&quot;Kokkupõrge&quot;</td><td>&quot;Valge&nbsp;aeg&quot;</td></tr><tr><td>&quot;2014-11-17&nbsp;17:32:00&quot;</td><td>2</td><td>0</td><td>2</td><td>&quot;Harju&nbsp;maakond&quot;</td><td>0</td><td>&quot;Kokkupõrge&quot;</td><td>&quot;Pimeda&nbsp;aeg&quot;</td></tr><tr><td>&quot;2015-04-28&nbsp;07:55:00&quot;</td><td>2</td><td>0</td><td>1</td><td>&quot;Harju&nbsp;maakond&quot;</td><td>0</td><td>&quot;Kokkupõrge&quot;</td><td>&quot;Valge&nbsp;aeg&quot;</td></tr></tbody></table></div>"
      ],
      "text/plain": [
       "shape: (5, 8)\n",
       "┌─────────────┬─────────────┬────────┬─────────┬─────────┬─────────────┬─────────────┬─────────────┐\n",
       "│ date        ┆ persons_inv ┆ killed ┆ injured ┆ county  ┆ pedestrian_ ┆ accident_ty ┆ light_condi │\n",
       "│ ---         ┆ olved       ┆ ---    ┆ ---     ┆ ---     ┆ involved    ┆ pe          ┆ tions       │\n",
       "│ str         ┆ ---         ┆ i64    ┆ i64     ┆ str     ┆ ---         ┆ ---         ┆ ---         │\n",
       "│             ┆ i64         ┆        ┆         ┆         ┆ i64         ┆ str         ┆ str         │\n",
       "╞═════════════╪═════════════╪════════╪═════════╪═════════╪═════════════╪═════════════╪═════════════╡\n",
       "│ 2014-10-24  ┆ 2           ┆ 0      ┆ 1       ┆ Harju   ┆ 1           ┆ Jalakäijaõn ┆ Valge aeg   │\n",
       "│ 08:45:00    ┆             ┆        ┆         ┆ maakond ┆             ┆ netus       ┆             │\n",
       "│ 2014-10-24  ┆ 2           ┆ 0      ┆ 1       ┆ Harju   ┆ 0           ┆ Kokkupõrge  ┆ Valge aeg   │\n",
       "│ 13:45:00    ┆             ┆        ┆         ┆ maakond ┆             ┆             ┆             │\n",
       "│ 2014-08-11  ┆ 2           ┆ 0      ┆ 1       ┆ Harju   ┆ 0           ┆ Kokkupõrge  ┆ Valge aeg   │\n",
       "│ 00:00:00    ┆             ┆        ┆         ┆ maakond ┆             ┆             ┆             │\n",
       "│ 2014-11-17  ┆ 2           ┆ 0      ┆ 2       ┆ Harju   ┆ 0           ┆ Kokkupõrge  ┆ Pimeda aeg  │\n",
       "│ 17:32:00    ┆             ┆        ┆         ┆ maakond ┆             ┆             ┆             │\n",
       "│ 2015-04-28  ┆ 2           ┆ 0      ┆ 1       ┆ Harju   ┆ 0           ┆ Kokkupõrge  ┆ Valge aeg   │\n",
       "│ 07:55:00    ┆             ┆        ┆         ┆ maakond ┆             ┆             ┆             │\n",
       "└─────────────┴─────────────┴────────┴─────────┴─────────┴─────────────┴─────────────┴─────────────┘"
      ]
     },
     "execution_count": 30,
     "metadata": {},
     "output_type": "execute_result"
    }
   ],
   "source": [
    "import polars as pl\n",
    "\n",
    "accidents = pl.read_csv(\"data/estonia-traffic-accidents-clean.csv\")\n",
    "accidents.head()"
   ]
  },
  {
   "cell_type": "markdown",
   "metadata": {},
   "source": [
    "### Some basic differences from pandas\n",
    "\n",
    "Like pandas, polars [**DataFrame**s](https://docs.pola.rs/api/python/stable/reference/dataframe/index.html) are composed of [**Series**](https://docs.pola.rs/api/python/stable/reference/series/index.html). You'll soon see that the API has a quite different style. Some other big differences:\n",
    "\n",
    "- No index.\n",
    "- The use of square brackets `[]` is discouraged, use methods instead.\n",
    "- Within reason, you want to use method chaining and do related things together, rather than splitting transformations line by line. This is so that the query optimizer can do it's thing under the hood.\n",
    "- Expressions\n",
    "\n",
    "Polars also has a a doc section for [Coming from Pandas](https://docs.pola.rs/user-guide/migration/pandas/).\n",
    "\n",
    "The biggest conceptual difference from pandas are expressions. So let's talk about those, after a brief detour on how to select columns (since we will use that to illustrate expressions). \n",
    "\n",
    "#### Convert from pandas to polars and vice versa\n",
    "\n",
    "polars has functions for converting data frames back and forth:"
   ]
  },
  {
   "cell_type": "code",
   "execution_count": 31,
   "metadata": {},
   "outputs": [],
   "source": [
    "import pyarrow\n",
    "\n",
    "df = pl.DataFrame({\"x\": [1, 2, 3], \"y\": [4, 5, 6]})\n",
    "# to make this a pandas dataframe\n",
    "# (requires pyarrow)\n",
    "df_pd = df.to_pandas()\n",
    "# to convert it back to polars dataframe\n",
    "df_pl = pl.DataFrame(df_pd)"
   ]
  },
  {
   "cell_type": "markdown",
   "metadata": {},
   "source": [
    "### Selecting columns\n",
    "\n",
    "With the `select()` method:"
   ]
  },
  {
   "cell_type": "code",
   "execution_count": 32,
   "metadata": {},
   "outputs": [
    {
     "data": {
      "text/html": [
       "<div><style>\n",
       ".dataframe > thead > tr,\n",
       ".dataframe > tbody > tr {\n",
       "  text-align: right;\n",
       "  white-space: pre-wrap;\n",
       "}\n",
       "</style>\n",
       "<small>shape: (5, 2)</small><table border=\"1\" class=\"dataframe\"><thead><tr><th>date</th><th>county</th></tr><tr><td>str</td><td>str</td></tr></thead><tbody><tr><td>&quot;2014-10-24&nbsp;08:45:00&quot;</td><td>&quot;Harju&nbsp;maakond&quot;</td></tr><tr><td>&quot;2014-10-24&nbsp;13:45:00&quot;</td><td>&quot;Harju&nbsp;maakond&quot;</td></tr><tr><td>&quot;2014-08-11&nbsp;00:00:00&quot;</td><td>&quot;Harju&nbsp;maakond&quot;</td></tr><tr><td>&quot;2014-11-17&nbsp;17:32:00&quot;</td><td>&quot;Harju&nbsp;maakond&quot;</td></tr><tr><td>&quot;2015-04-28&nbsp;07:55:00&quot;</td><td>&quot;Harju&nbsp;maakond&quot;</td></tr></tbody></table></div>"
      ],
      "text/plain": [
       "shape: (5, 2)\n",
       "┌─────────────────────┬───────────────┐\n",
       "│ date                ┆ county        │\n",
       "│ ---                 ┆ ---           │\n",
       "│ str                 ┆ str           │\n",
       "╞═════════════════════╪═══════════════╡\n",
       "│ 2014-10-24 08:45:00 ┆ Harju maakond │\n",
       "│ 2014-10-24 13:45:00 ┆ Harju maakond │\n",
       "│ 2014-08-11 00:00:00 ┆ Harju maakond │\n",
       "│ 2014-11-17 17:32:00 ┆ Harju maakond │\n",
       "│ 2015-04-28 07:55:00 ┆ Harju maakond │\n",
       "└─────────────────────┴───────────────┘"
      ]
     },
     "execution_count": 32,
     "metadata": {},
     "output_type": "execute_result"
    }
   ],
   "source": [
    "accidents.select(\"date\", \"county\").head()"
   ]
  },
  {
   "cell_type": "markdown",
   "metadata": {},
   "source": [
    "### Expressions\n",
    "\n",
    "Polars relies very heavily on expressions. These are **data transformations** that abstractly define what we want to do with some data, and operate within a **context** that provides data to apply those changes to actual data.\n",
    "\n",
    "`select()` is one of the contexts in which an expression can be executed. One of the most basic expressions is `pl.col()`, which selects a column in the context provided. We can use this to select a column, like we did above.  "
   ]
  },
  {
   "cell_type": "code",
   "execution_count": 33,
   "metadata": {},
   "outputs": [
    {
     "data": {
      "text/html": [
       "<div><style>\n",
       ".dataframe > thead > tr,\n",
       ".dataframe > tbody > tr {\n",
       "  text-align: right;\n",
       "  white-space: pre-wrap;\n",
       "}\n",
       "</style>\n",
       "<small>shape: (5, 1)</small><table border=\"1\" class=\"dataframe\"><thead><tr><th>date</th></tr><tr><td>str</td></tr></thead><tbody><tr><td>&quot;2014-10-24&nbsp;08:45:00&quot;</td></tr><tr><td>&quot;2014-10-24&nbsp;13:45:00&quot;</td></tr><tr><td>&quot;2014-08-11&nbsp;00:00:00&quot;</td></tr><tr><td>&quot;2014-11-17&nbsp;17:32:00&quot;</td></tr><tr><td>&quot;2015-04-28&nbsp;07:55:00&quot;</td></tr></tbody></table></div>"
      ],
      "text/plain": [
       "shape: (5, 1)\n",
       "┌─────────────────────┐\n",
       "│ date                │\n",
       "│ ---                 │\n",
       "│ str                 │\n",
       "╞═════════════════════╡\n",
       "│ 2014-10-24 08:45:00 │\n",
       "│ 2014-10-24 13:45:00 │\n",
       "│ 2014-08-11 00:00:00 │\n",
       "│ 2014-11-17 17:32:00 │\n",
       "│ 2015-04-28 07:55:00 │\n",
       "└─────────────────────┘"
      ]
     },
     "execution_count": 33,
     "metadata": {},
     "output_type": "execute_result"
    }
   ],
   "source": [
    "accidents.select(pl.col(\"date\")).head()"
   ]
  },
  {
   "cell_type": "markdown",
   "metadata": {},
   "source": [
    "#### Composing expressions\n",
    "\n",
    "What's the point of that? By itself having a more verbose method to select columns is not that useful, but what is very useful is that we can compose expressions to do many useful things. For example: \n",
    "\n",
    "#### How many people were injured or killed in the biggest accident in the data?"
   ]
  },
  {
   "cell_type": "code",
   "execution_count": 34,
   "metadata": {},
   "outputs": [
    {
     "data": {
      "text/html": [
       "<div><style>\n",
       ".dataframe > thead > tr,\n",
       ".dataframe > tbody > tr {\n",
       "  text-align: right;\n",
       "  white-space: pre-wrap;\n",
       "}\n",
       "</style>\n",
       "<small>shape: (1, 1)</small><table border=\"1\" class=\"dataframe\"><thead><tr><th>killed_or_injured</th></tr><tr><td>i64</td></tr></thead><tbody><tr><td>23</td></tr></tbody></table></div>"
      ],
      "text/plain": [
       "shape: (1, 1)\n",
       "┌───────────────────┐\n",
       "│ killed_or_injured │\n",
       "│ ---               │\n",
       "│ i64               │\n",
       "╞═══════════════════╡\n",
       "│ 23                │\n",
       "└───────────────────┘"
      ]
     },
     "execution_count": 34,
     "metadata": {},
     "output_type": "execute_result"
    }
   ],
   "source": [
    "accidents.select(\n",
    "    # select 'killed'\n",
    "    pl.col(\"killed\")\n",
    "    # add 'injured'\n",
    "    .add(pl.col(\"injured\"))\n",
    "    # give the result a new column name\n",
    "    .alias(\"killed_or_injured\")\n",
    "    # identify the max value\n",
    "    .max())"
   ]
  },
  {
   "cell_type": "markdown",
   "metadata": {},
   "source": [
    "#### Contexts\n",
    "\n",
    "There are 4 contexts in which expressions can be used:\n",
    "\n",
    "- `select()`\n",
    "- `filter()`\n",
    "- `with_columns()` to mutate data frames\n",
    "- `group_by()` and aggregations\n",
    "\n",
    "We'll see all of those below. \n",
    "\n",
    "For more on the _concept_ of expressions in polars, see the [Expressions and contexts](https://docs.pola.rs/user-guide/concepts/expressions-and-contexts/) section in the documentation. \n",
    "\n",
    "For a list of available expressions, see [this more conceptual overview](https://docs.pola.rs/user-guide/expressions/) in the user guide, or the [Python API reference on expressions](https://docs.pola.rs/api/python/stable/reference/expressions/index.html)."
   ]
  },
  {
   "cell_type": "markdown",
   "metadata": {},
   "source": [
    "### Filtering rows\n",
    "\n",
    "Using `filter()`:"
   ]
  },
  {
   "cell_type": "code",
   "execution_count": 35,
   "metadata": {},
   "outputs": [
    {
     "data": {
      "text/plain": [
       "(7000, 8)"
      ]
     },
     "execution_count": 35,
     "metadata": {},
     "output_type": "execute_result"
    }
   ],
   "source": [
    "accidents.filter(pl.col(\"county\").eq(\"Harju maakond\")).shape"
   ]
  },
  {
   "cell_type": "markdown",
   "metadata": {},
   "source": [
    "(You can generally use operators like `==`, `+`, `-` as you'd expect them to work, the only thing is that if you wanted to do something further with the result, you'd have to wrap the calculation in extra parentheses, like `(pl.col(\"a\") + pl.col(\"b\")).max()`, versus `pl.col(\"a\").add(pl.col(\"b\")).max()`.)\n",
    "\n",
    "Another small example of how expressions can make life easier is below. Instead of filtering using the full county name \"Harju maakond\", we can just look for strings that contain the substring \"Harju\". "
   ]
  },
  {
   "cell_type": "code",
   "execution_count": 36,
   "metadata": {},
   "outputs": [
    {
     "data": {
      "text/plain": [
       "(7000, 8)"
      ]
     },
     "execution_count": 36,
     "metadata": {},
     "output_type": "execute_result"
    }
   ],
   "source": [
    "accidents.filter(pl.col(\"county\").str.contains(\"Harju\")).shape"
   ]
  },
  {
   "cell_type": "code",
   "execution_count": 37,
   "metadata": {},
   "outputs": [
    {
     "data": {
      "text/plain": [
       "(7000, 8)"
      ]
     },
     "execution_count": 37,
     "metadata": {},
     "output_type": "execute_result"
    }
   ],
   "source": [
    "accidents.filter(pl.col(\"county\")==\"Harju maakond\").shape"
   ]
  },
  {
   "cell_type": "markdown",
   "metadata": {},
   "source": [
    "### Mutating dataframes\n",
    "\n",
    "You use `with_columns()` and various expressions to mutate (add, change) columns in a dataframe. Here is how you would add a \"killed_or_injured\" column, like we did with pandas earlier. "
   ]
  },
  {
   "cell_type": "code",
   "execution_count": 38,
   "metadata": {},
   "outputs": [
    {
     "data": {
      "text/html": [
       "<div><style>\n",
       ".dataframe > thead > tr,\n",
       ".dataframe > tbody > tr {\n",
       "  text-align: right;\n",
       "  white-space: pre-wrap;\n",
       "}\n",
       "</style>\n",
       "<small>shape: (5, 9)</small><table border=\"1\" class=\"dataframe\"><thead><tr><th>date</th><th>persons_involved</th><th>killed</th><th>injured</th><th>county</th><th>pedestrian_involved</th><th>accident_type</th><th>light_conditions</th><th>killed_or_injured</th></tr><tr><td>str</td><td>i64</td><td>i64</td><td>i64</td><td>str</td><td>i64</td><td>str</td><td>str</td><td>i64</td></tr></thead><tbody><tr><td>&quot;2014-10-24&nbsp;08:45:00&quot;</td><td>2</td><td>0</td><td>1</td><td>&quot;Harju&nbsp;maakond&quot;</td><td>1</td><td>&quot;Jalakäijaõnnetus&quot;</td><td>&quot;Valge&nbsp;aeg&quot;</td><td>1</td></tr><tr><td>&quot;2014-10-24&nbsp;13:45:00&quot;</td><td>2</td><td>0</td><td>1</td><td>&quot;Harju&nbsp;maakond&quot;</td><td>0</td><td>&quot;Kokkupõrge&quot;</td><td>&quot;Valge&nbsp;aeg&quot;</td><td>1</td></tr><tr><td>&quot;2014-08-11&nbsp;00:00:00&quot;</td><td>2</td><td>0</td><td>1</td><td>&quot;Harju&nbsp;maakond&quot;</td><td>0</td><td>&quot;Kokkupõrge&quot;</td><td>&quot;Valge&nbsp;aeg&quot;</td><td>1</td></tr><tr><td>&quot;2014-11-17&nbsp;17:32:00&quot;</td><td>2</td><td>0</td><td>2</td><td>&quot;Harju&nbsp;maakond&quot;</td><td>0</td><td>&quot;Kokkupõrge&quot;</td><td>&quot;Pimeda&nbsp;aeg&quot;</td><td>2</td></tr><tr><td>&quot;2015-04-28&nbsp;07:55:00&quot;</td><td>2</td><td>0</td><td>1</td><td>&quot;Harju&nbsp;maakond&quot;</td><td>0</td><td>&quot;Kokkupõrge&quot;</td><td>&quot;Valge&nbsp;aeg&quot;</td><td>1</td></tr></tbody></table></div>"
      ],
      "text/plain": [
       "shape: (5, 9)\n",
       "┌────────────┬────────────┬────────┬─────────┬───┬────────────┬────────────┬───────────┬───────────┐\n",
       "│ date       ┆ persons_in ┆ killed ┆ injured ┆ … ┆ pedestrian ┆ accident_t ┆ light_con ┆ killed_or │\n",
       "│ ---        ┆ volved     ┆ ---    ┆ ---     ┆   ┆ _involved  ┆ ype        ┆ ditions   ┆ _injured  │\n",
       "│ str        ┆ ---        ┆ i64    ┆ i64     ┆   ┆ ---        ┆ ---        ┆ ---       ┆ ---       │\n",
       "│            ┆ i64        ┆        ┆         ┆   ┆ i64        ┆ str        ┆ str       ┆ i64       │\n",
       "╞════════════╪════════════╪════════╪═════════╪═══╪════════════╪════════════╪═══════════╪═══════════╡\n",
       "│ 2014-10-24 ┆ 2          ┆ 0      ┆ 1       ┆ … ┆ 1          ┆ Jalakäijaõ ┆ Valge aeg ┆ 1         │\n",
       "│ 08:45:00   ┆            ┆        ┆         ┆   ┆            ┆ nnetus     ┆           ┆           │\n",
       "│ 2014-10-24 ┆ 2          ┆ 0      ┆ 1       ┆ … ┆ 0          ┆ Kokkupõrge ┆ Valge aeg ┆ 1         │\n",
       "│ 13:45:00   ┆            ┆        ┆         ┆   ┆            ┆            ┆           ┆           │\n",
       "│ 2014-08-11 ┆ 2          ┆ 0      ┆ 1       ┆ … ┆ 0          ┆ Kokkupõrge ┆ Valge aeg ┆ 1         │\n",
       "│ 00:00:00   ┆            ┆        ┆         ┆   ┆            ┆            ┆           ┆           │\n",
       "│ 2014-11-17 ┆ 2          ┆ 0      ┆ 2       ┆ … ┆ 0          ┆ Kokkupõrge ┆ Pimeda    ┆ 2         │\n",
       "│ 17:32:00   ┆            ┆        ┆         ┆   ┆            ┆            ┆ aeg       ┆           │\n",
       "│ 2015-04-28 ┆ 2          ┆ 0      ┆ 1       ┆ … ┆ 0          ┆ Kokkupõrge ┆ Valge aeg ┆ 1         │\n",
       "│ 07:55:00   ┆            ┆        ┆         ┆   ┆            ┆            ┆           ┆           │\n",
       "└────────────┴────────────┴────────┴─────────┴───┴────────────┴────────────┴───────────┴───────────┘"
      ]
     },
     "execution_count": 38,
     "metadata": {},
     "output_type": "execute_result"
    }
   ],
   "source": [
    "accidents = accidents.with_columns(\n",
    "    pl.col(\"killed\").add(pl.col(\"injured\")).alias(\"killed_or_injured\")\n",
    ")\n",
    "accidents.head()"
   ]
  },
  {
   "cell_type": "markdown",
   "metadata": {},
   "source": [
    "### Group and aggregate\n",
    "\n",
    "Instead of calculating the number of victims by accident type or year, as we did above, let's do by county instead."
   ]
  },
  {
   "cell_type": "code",
   "execution_count": 39,
   "metadata": {},
   "outputs": [
    {
     "data": {
      "text/html": [
       "<div><style>\n",
       ".dataframe > thead > tr,\n",
       ".dataframe > tbody > tr {\n",
       "  text-align: right;\n",
       "  white-space: pre-wrap;\n",
       "}\n",
       "</style>\n",
       "<small>shape: (5, 3)</small><table border=\"1\" class=\"dataframe\"><thead><tr><th>county</th><th>accidents</th><th>killed_or_injured</th></tr><tr><td>str</td><td>u32</td><td>i64</td></tr></thead><tbody><tr><td>&quot;Harju&nbsp;maakond&quot;</td><td>7000</td><td>8423</td></tr><tr><td>&quot;Tartu&nbsp;maakond&quot;</td><td>1591</td><td>1968</td></tr><tr><td>&quot;Ida-Viru&nbsp;maakond&quot;</td><td>991</td><td>1348</td></tr><tr><td>&quot;Pärnu&nbsp;maakond&quot;</td><td>1008</td><td>1293</td></tr><tr><td>&quot;Lääne-Viru&nbsp;maakond&quot;</td><td>645</td><td>883</td></tr></tbody></table></div>"
      ],
      "text/plain": [
       "shape: (5, 3)\n",
       "┌────────────────────┬───────────┬───────────────────┐\n",
       "│ county             ┆ accidents ┆ killed_or_injured │\n",
       "│ ---                ┆ ---       ┆ ---               │\n",
       "│ str                ┆ u32       ┆ i64               │\n",
       "╞════════════════════╪═══════════╪═══════════════════╡\n",
       "│ Harju maakond      ┆ 7000      ┆ 8423              │\n",
       "│ Tartu maakond      ┆ 1591      ┆ 1968              │\n",
       "│ Ida-Viru maakond   ┆ 991       ┆ 1348              │\n",
       "│ Pärnu maakond      ┆ 1008      ┆ 1293              │\n",
       "│ Lääne-Viru maakond ┆ 645       ┆ 883               │\n",
       "└────────────────────┴───────────┴───────────────────┘"
      ]
     },
     "execution_count": 39,
     "metadata": {},
     "output_type": "execute_result"
    }
   ],
   "source": [
    "by_county = (accidents\n",
    "             .group_by(\"county\")\n",
    "             .agg(pl.len().alias(\"accidents\"),\n",
    "                  pl.col(\"killed_or_injured\").sum())\n",
    "             .sort(\"killed_or_injured\", descending=True)\n",
    ")\n",
    "by_county.head()"
   ]
  },
  {
   "cell_type": "markdown",
   "metadata": {},
   "source": [
    "### (Optional) Joining dataframes\n",
    "\n",
    "Often you have information in different dataframes (tables) that you want to join (or merge) together. For example, what if we want to know the accident rate per capita by county? For this we can first group and aggregate to get the county-level number of accident victims, then join a table with population figures for each county. \n",
    "\n",
    "Since we conveniently already have county-level data from above, we just need to read and join in the county population data. \n",
    "\n",
    "(Data are from [Statistics Estonia](https://andmed.stat.ee/en/stat/rahvastik__rahvastikunaitajad-ja-koosseis__rahvaarv-ja-rahvastiku-koosseis/RV022U))"
   ]
  },
  {
   "cell_type": "code",
   "execution_count": 40,
   "metadata": {},
   "outputs": [
    {
     "data": {
      "text/html": [
       "<div><style>\n",
       ".dataframe > thead > tr,\n",
       ".dataframe > tbody > tr {\n",
       "  text-align: right;\n",
       "  white-space: pre-wrap;\n",
       "}\n",
       "</style>\n",
       "<small>shape: (15, 4)</small><table border=\"1\" class=\"dataframe\"><thead><tr><th>county</th><th>accidents</th><th>killed_or_injured</th><th>population</th></tr><tr><td>str</td><td>u32</td><td>i64</td><td>i64</td></tr></thead><tbody><tr><td>&quot;Harju&nbsp;maakond&quot;</td><td>7000</td><td>8423</td><td>598059</td></tr><tr><td>&quot;Tartu&nbsp;maakond&quot;</td><td>1591</td><td>1968</td><td>152977</td></tr><tr><td>&quot;Ida-Viru&nbsp;maakond&quot;</td><td>991</td><td>1348</td><td>136240</td></tr><tr><td>&quot;Pärnu&nbsp;maakond&quot;</td><td>1008</td><td>1293</td><td>85938</td></tr><tr><td>&quot;Lääne-Viru&nbsp;maakond&quot;</td><td>645</td><td>883</td><td>59325</td></tr><tr><td>&hellip;</td><td>&hellip;</td><td>&hellip;</td><td>&hellip;</td></tr><tr><td>&quot;Saare&nbsp;maakond&quot;</td><td>325</td><td>413</td><td>33108</td></tr><tr><td>&quot;Valga&nbsp;maakond&quot;</td><td>302</td><td>400</td><td>28370</td></tr><tr><td>&quot;Põlva&nbsp;maakond&quot;</td><td>285</td><td>383</td><td>25006</td></tr><tr><td>&quot;Lääne&nbsp;maakond&quot;</td><td>208</td><td>272</td><td>20507</td></tr><tr><td>&quot;Hiiu&nbsp;maakond&quot;</td><td>60</td><td>76</td><td>9387</td></tr></tbody></table></div>"
      ],
      "text/plain": [
       "shape: (15, 4)\n",
       "┌────────────────────┬───────────┬───────────────────┬────────────┐\n",
       "│ county             ┆ accidents ┆ killed_or_injured ┆ population │\n",
       "│ ---                ┆ ---       ┆ ---               ┆ ---        │\n",
       "│ str                ┆ u32       ┆ i64               ┆ i64        │\n",
       "╞════════════════════╪═══════════╪═══════════════════╪════════════╡\n",
       "│ Harju maakond      ┆ 7000      ┆ 8423              ┆ 598059     │\n",
       "│ Tartu maakond      ┆ 1591      ┆ 1968              ┆ 152977     │\n",
       "│ Ida-Viru maakond   ┆ 991       ┆ 1348              ┆ 136240     │\n",
       "│ Pärnu maakond      ┆ 1008      ┆ 1293              ┆ 85938      │\n",
       "│ Lääne-Viru maakond ┆ 645       ┆ 883               ┆ 59325      │\n",
       "│ …                  ┆ …         ┆ …                 ┆ …          │\n",
       "│ Saare maakond      ┆ 325       ┆ 413               ┆ 33108      │\n",
       "│ Valga maakond      ┆ 302       ┆ 400               ┆ 28370      │\n",
       "│ Põlva maakond      ┆ 285       ┆ 383               ┆ 25006      │\n",
       "│ Lääne maakond      ┆ 208       ┆ 272               ┆ 20507      │\n",
       "│ Hiiu maakond       ┆ 60        ┆ 76                ┆ 9387       │\n",
       "└────────────────────┴───────────┴───────────────────┴────────────┘"
      ]
     },
     "execution_count": 40,
     "metadata": {},
     "output_type": "execute_result"
    }
   ],
   "source": [
    "county_pop = (pl.read_csv(\"data/county-pop.csv\", skip_rows=2)\n",
    "              .rename({\"County\": \"county\", \"Age groups total\": \"population\"})\n",
    "              .select([\"county\", \"population\"])\n",
    "              # this has \"county\" in the county names, not \"maakond\"\n",
    "              .with_columns(pl.col(\"county\").str.replace(\"county\", \"maakond\"))\n",
    "              )\n",
    "\n",
    "by_county_w_pop = by_county.join(county_pop, on=\"county\", how=\"left\")\n",
    "by_county_w_pop"
   ]
  },
  {
   "cell_type": "code",
   "execution_count": 41,
   "metadata": {},
   "outputs": [
    {
     "data": {
      "text/html": [
       "<div><style>\n",
       ".dataframe > thead > tr,\n",
       ".dataframe > tbody > tr {\n",
       "  text-align: right;\n",
       "  white-space: pre-wrap;\n",
       "}\n",
       "</style>\n",
       "<small>shape: (3, 3)</small><table border=\"1\" class=\"dataframe\"><thead><tr><th>county</th><th>killed_or_injured</th><th>rate/1000</th></tr><tr><td>str</td><td>i64</td><td>f64</td></tr></thead><tbody><tr><td>&quot;Harju&nbsp;maakond&quot;</td><td>8423</td><td>14.083895</td></tr><tr><td>&quot;Tartu&nbsp;maakond&quot;</td><td>1968</td><td>12.864679</td></tr><tr><td>&quot;Ida-Viru&nbsp;maakond&quot;</td><td>1348</td><td>9.894304</td></tr></tbody></table></div>"
      ],
      "text/plain": [
       "shape: (3, 3)\n",
       "┌──────────────────┬───────────────────┬───────────┐\n",
       "│ county           ┆ killed_or_injured ┆ rate/1000 │\n",
       "│ ---              ┆ ---               ┆ ---       │\n",
       "│ str              ┆ i64               ┆ f64       │\n",
       "╞══════════════════╪═══════════════════╪═══════════╡\n",
       "│ Harju maakond    ┆ 8423              ┆ 14.083895 │\n",
       "│ Tartu maakond    ┆ 1968              ┆ 12.864679 │\n",
       "│ Ida-Viru maakond ┆ 1348              ┆ 9.894304  │\n",
       "└──────────────────┴───────────────────┴───────────┘"
      ]
     },
     "execution_count": 41,
     "metadata": {},
     "output_type": "execute_result"
    }
   ],
   "source": [
    "by_county_w_pop.select(\n",
    "    pl.col(\"county\"), \n",
    "    pl.col(\"killed_or_injured\"),\n",
    "    pl.col(\"killed_or_injured\").truediv(pl.col(\"population\")).mul(1000).alias(\"rate/1000\")\n",
    "    ).head(3)"
   ]
  },
  {
   "cell_type": "markdown",
   "metadata": {},
   "source": [
    "Which 3 counties have the highest vehicle accident victim rates?"
   ]
  },
  {
   "cell_type": "code",
   "execution_count": 42,
   "metadata": {},
   "outputs": [],
   "source": [
    "# Add your code here"
   ]
  },
  {
   "cell_type": "markdown",
   "metadata": {},
   "source": [
    "Which 3 counties have the lowest vehicle accident victim rates?"
   ]
  },
  {
   "cell_type": "code",
   "execution_count": 43,
   "metadata": {},
   "outputs": [],
   "source": [
    "# Add your code here"
   ]
  },
  {
   "cell_type": "markdown",
   "metadata": {},
   "source": [
    "### (Optional) Reshaping / pivoting dataframes\n",
    "\n",
    "For this we will look at another dataset, on reflector usage. (🌃🎄 Tis' the time of year...)"
   ]
  },
  {
   "cell_type": "code",
   "execution_count": 61,
   "metadata": {},
   "outputs": [
    {
     "data": {
      "text/html": [
       "<div><style>\n",
       ".dataframe > thead > tr,\n",
       ".dataframe > tbody > tr {\n",
       "  text-align: right;\n",
       "  white-space: pre-wrap;\n",
       "}\n",
       "</style>\n",
       "<small>shape: (5, 7)</small><table border=\"1\" class=\"dataframe\"><thead><tr><th>Reflector use</th><th>Sex</th><th>16-24</th><th>25-34</th><th>35-44</th><th>45-54</th><th>55-64</th></tr><tr><td>str</td><td>str</td><td>f64</td><td>f64</td><td>f64</td><td>f64</td><td>f64</td></tr></thead><tbody><tr><td>&quot;Nearly&nbsp;always&quot;</td><td>&quot;Men&quot;</td><td>34.3</td><td>40.5</td><td>52.2</td><td>58.6</td><td>55.9</td></tr><tr><td>&quot;Nearly&nbsp;always&quot;</td><td>&quot;Women&quot;</td><td>58.4</td><td>64.9</td><td>71.4</td><td>78.4</td><td>74.9</td></tr><tr><td>&quot;Never&quot;</td><td>&quot;Men&quot;</td><td>14.3</td><td>12.4</td><td>7.2</td><td>3.9</td><td>2.7</td></tr><tr><td>&quot;Never&quot;</td><td>&quot;Women&quot;</td><td>8.8</td><td>5.0</td><td>4.6</td><td>2.0</td><td>2.5</td></tr><tr><td>&quot;Never&nbsp;walk&nbsp;on&nbsp;dark&nbsp;streets,&nbsp;ro…</td><td>&quot;Men&quot;</td><td>4.8</td><td>10.8</td><td>9.7</td><td>11.3</td><td>12.8</td></tr></tbody></table></div>"
      ],
      "text/plain": [
       "shape: (5, 7)\n",
       "┌─────────────────────────────────┬───────┬───────┬───────┬───────┬───────┬───────┐\n",
       "│ Reflector use                   ┆ Sex   ┆ 16-24 ┆ 25-34 ┆ 35-44 ┆ 45-54 ┆ 55-64 │\n",
       "│ ---                             ┆ ---   ┆ ---   ┆ ---   ┆ ---   ┆ ---   ┆ ---   │\n",
       "│ str                             ┆ str   ┆ f64   ┆ f64   ┆ f64   ┆ f64   ┆ f64   │\n",
       "╞═════════════════════════════════╪═══════╪═══════╪═══════╪═══════╪═══════╪═══════╡\n",
       "│ Nearly always                   ┆ Men   ┆ 34.3  ┆ 40.5  ┆ 52.2  ┆ 58.6  ┆ 55.9  │\n",
       "│ Nearly always                   ┆ Women ┆ 58.4  ┆ 64.9  ┆ 71.4  ┆ 78.4  ┆ 74.9  │\n",
       "│ Never                           ┆ Men   ┆ 14.3  ┆ 12.4  ┆ 7.2   ┆ 3.9   ┆ 2.7   │\n",
       "│ Never                           ┆ Women ┆ 8.8   ┆ 5.0   ┆ 4.6   ┆ 2.0   ┆ 2.5   │\n",
       "│ Never walk on dark streets, ro… ┆ Men   ┆ 4.8   ┆ 10.8  ┆ 9.7   ┆ 11.3  ┆ 12.8  │\n",
       "└─────────────────────────────────┴───────┴───────┴───────┴───────┴───────┴───────┘"
      ]
     },
     "execution_count": 61,
     "metadata": {},
     "output_type": "execute_result"
    }
   ],
   "source": [
    "reflectors = (pl.read_csv(\"data/reflectors.csv\", has_header=True, separator=\";\", skip_rows=2)\n",
    "              .filter(pl.col(\"Sex\").ne(\"Men and women\"))\n",
    "              .drop([\"Type of data\", \"Year\", \"All age groups (16-64)\"])\n",
    "              .sort(\"Reflector use\", \"Sex\")\n",
    ")\n",
    "reflectors.head()"
   ]
  },
  {
   "cell_type": "markdown",
   "metadata": {},
   "source": [
    "After some basic cleaning, we can see that this dataframe has a not uncommon pattern, time series represented as rows, not columns, with their ID label as the column name. That's fine for presentation purposes when you look at the table, but for plotting life will be easier if we reshape this data from the current wide format to a long format.\n",
    "\n",
    "We want to create two new columns from all the \"16-24\" etc. columns: \n",
    "\n",
    "- One with the age group information. \n",
    "- The other with the reflector usage values. \n",
    "\n"
   ]
  },
  {
   "cell_type": "code",
   "execution_count": 62,
   "metadata": {},
   "outputs": [
    {
     "data": {
      "text/html": [
       "<div><style>\n",
       ".dataframe > thead > tr,\n",
       ".dataframe > tbody > tr {\n",
       "  text-align: right;\n",
       "  white-space: pre-wrap;\n",
       "}\n",
       "</style>\n",
       "<small>shape: (5, 4)</small><table border=\"1\" class=\"dataframe\"><thead><tr><th>Reflector use</th><th>Sex</th><th>age_group</th><th>percentage</th></tr><tr><td>str</td><td>str</td><td>str</td><td>f64</td></tr></thead><tbody><tr><td>&quot;Nearly&nbsp;always&quot;</td><td>&quot;Men&quot;</td><td>&quot;16-24&quot;</td><td>34.3</td></tr><tr><td>&quot;Nearly&nbsp;always&quot;</td><td>&quot;Men&quot;</td><td>&quot;25-34&quot;</td><td>40.5</td></tr><tr><td>&quot;Nearly&nbsp;always&quot;</td><td>&quot;Men&quot;</td><td>&quot;35-44&quot;</td><td>52.2</td></tr><tr><td>&quot;Nearly&nbsp;always&quot;</td><td>&quot;Men&quot;</td><td>&quot;45-54&quot;</td><td>58.6</td></tr><tr><td>&quot;Nearly&nbsp;always&quot;</td><td>&quot;Men&quot;</td><td>&quot;55-64&quot;</td><td>55.9</td></tr></tbody></table></div>"
      ],
      "text/plain": [
       "shape: (5, 4)\n",
       "┌───────────────┬─────┬───────────┬────────────┐\n",
       "│ Reflector use ┆ Sex ┆ age_group ┆ percentage │\n",
       "│ ---           ┆ --- ┆ ---       ┆ ---        │\n",
       "│ str           ┆ str ┆ str       ┆ f64        │\n",
       "╞═══════════════╪═════╪═══════════╪════════════╡\n",
       "│ Nearly always ┆ Men ┆ 16-24     ┆ 34.3       │\n",
       "│ Nearly always ┆ Men ┆ 25-34     ┆ 40.5       │\n",
       "│ Nearly always ┆ Men ┆ 35-44     ┆ 52.2       │\n",
       "│ Nearly always ┆ Men ┆ 45-54     ┆ 58.6       │\n",
       "│ Nearly always ┆ Men ┆ 55-64     ┆ 55.9       │\n",
       "└───────────────┴─────┴───────────┴────────────┘"
      ]
     },
     "execution_count": 62,
     "metadata": {},
     "output_type": "execute_result"
    }
   ],
   "source": [
    "reflectors = (reflectors\n",
    "              .unpivot(index=[\"Reflector use\", \"Sex\"], \n",
    "                       variable_name=\"age_group\", \n",
    "                       value_name=\"percentage\")\n",
    "              .sort(\"Reflector use\", \"Sex\", \"age_group\")\n",
    ")\n",
    "reflectors.head()\n"
   ]
  },
  {
   "cell_type": "code",
   "execution_count": 46,
   "metadata": {},
   "outputs": [
    {
     "data": {
      "text/html": [
       "\n",
       "<style>\n",
       "  #altair-viz-8c0fcf62194c431bb5d8598af0452ab5.vega-embed {\n",
       "    width: 100%;\n",
       "    display: flex;\n",
       "  }\n",
       "\n",
       "  #altair-viz-8c0fcf62194c431bb5d8598af0452ab5.vega-embed details,\n",
       "  #altair-viz-8c0fcf62194c431bb5d8598af0452ab5.vega-embed details summary {\n",
       "    position: relative;\n",
       "  }\n",
       "</style>\n",
       "<div id=\"altair-viz-8c0fcf62194c431bb5d8598af0452ab5\"></div>\n",
       "<script type=\"text/javascript\">\n",
       "  var VEGA_DEBUG = (typeof VEGA_DEBUG == \"undefined\") ? {} : VEGA_DEBUG;\n",
       "  (function(spec, embedOpt){\n",
       "    let outputDiv = document.currentScript.previousElementSibling;\n",
       "    if (outputDiv.id !== \"altair-viz-8c0fcf62194c431bb5d8598af0452ab5\") {\n",
       "      outputDiv = document.getElementById(\"altair-viz-8c0fcf62194c431bb5d8598af0452ab5\");\n",
       "    }\n",
       "    const paths = {\n",
       "      \"vega\": \"https://cdn.jsdelivr.net/npm/vega@5?noext\",\n",
       "      \"vega-lib\": \"https://cdn.jsdelivr.net/npm/vega-lib?noext\",\n",
       "      \"vega-lite\": \"https://cdn.jsdelivr.net/npm/vega-lite@5.20.1?noext\",\n",
       "      \"vega-embed\": \"https://cdn.jsdelivr.net/npm/vega-embed@6?noext\",\n",
       "    };\n",
       "\n",
       "    function maybeLoadScript(lib, version) {\n",
       "      var key = `${lib.replace(\"-\", \"\")}_version`;\n",
       "      return (VEGA_DEBUG[key] == version) ?\n",
       "        Promise.resolve(paths[lib]) :\n",
       "        new Promise(function(resolve, reject) {\n",
       "          var s = document.createElement('script');\n",
       "          document.getElementsByTagName(\"head\")[0].appendChild(s);\n",
       "          s.async = true;\n",
       "          s.onload = () => {\n",
       "            VEGA_DEBUG[key] = version;\n",
       "            return resolve(paths[lib]);\n",
       "          };\n",
       "          s.onerror = () => reject(`Error loading script: ${paths[lib]}`);\n",
       "          s.src = paths[lib];\n",
       "        });\n",
       "    }\n",
       "\n",
       "    function showError(err) {\n",
       "      outputDiv.innerHTML = `<div class=\"error\" style=\"color:red;\">${err}</div>`;\n",
       "      throw err;\n",
       "    }\n",
       "\n",
       "    function displayChart(vegaEmbed) {\n",
       "      vegaEmbed(outputDiv, spec, embedOpt)\n",
       "        .catch(err => showError(`Javascript Error: ${err.message}<br>This usually means there's a typo in your chart specification. See the javascript console for the full traceback.`));\n",
       "    }\n",
       "\n",
       "    if(typeof define === \"function\" && define.amd) {\n",
       "      requirejs.config({paths});\n",
       "      require([\"vega-embed\"], displayChart, err => showError(`Error loading script: ${err.message}`));\n",
       "    } else {\n",
       "      maybeLoadScript(\"vega\", \"5\")\n",
       "        .then(() => maybeLoadScript(\"vega-lite\", \"5.20.1\"))\n",
       "        .then(() => maybeLoadScript(\"vega-embed\", \"6\"))\n",
       "        .catch(showError)\n",
       "        .then(() => displayChart(vegaEmbed));\n",
       "    }\n",
       "  })({\"config\": {\"view\": {\"continuousWidth\": 300, \"continuousHeight\": 300}}, \"data\": {\"name\": \"data-70ba5e9649ef105c097b9c80302ecebf\"}, \"mark\": {\"type\": \"line\", \"tooltip\": true}, \"encoding\": {\"color\": {\"field\": \"Sex\", \"type\": \"nominal\"}, \"x\": {\"field\": \"age_group\", \"type\": \"nominal\"}, \"y\": {\"field\": \"percentage\", \"type\": \"quantitative\"}}, \"height\": 300, \"params\": [{\"name\": \"param_1\", \"select\": {\"type\": \"interval\", \"encodings\": [\"x\", \"y\"]}, \"bind\": \"scales\"}], \"width\": 600, \"$schema\": \"https://vega.github.io/schema/vega-lite/v5.20.1.json\", \"datasets\": {\"data-70ba5e9649ef105c097b9c80302ecebf\": [{\"Reflector use\": \"Never\", \"Sex\": \"Men\", \"age_group\": \"16-24\", \"percentage\": 14.3}, {\"Reflector use\": \"Never\", \"Sex\": \"Women\", \"age_group\": \"16-24\", \"percentage\": 8.8}, {\"Reflector use\": \"Never\", \"Sex\": \"Men\", \"age_group\": \"25-34\", \"percentage\": 12.4}, {\"Reflector use\": \"Never\", \"Sex\": \"Women\", \"age_group\": \"25-34\", \"percentage\": 5.0}, {\"Reflector use\": \"Never\", \"Sex\": \"Men\", \"age_group\": \"35-44\", \"percentage\": 7.2}, {\"Reflector use\": \"Never\", \"Sex\": \"Women\", \"age_group\": \"35-44\", \"percentage\": 4.6}, {\"Reflector use\": \"Never\", \"Sex\": \"Men\", \"age_group\": \"45-54\", \"percentage\": 3.9}, {\"Reflector use\": \"Never\", \"Sex\": \"Women\", \"age_group\": \"45-54\", \"percentage\": 2.0}, {\"Reflector use\": \"Never\", \"Sex\": \"Men\", \"age_group\": \"55-64\", \"percentage\": 2.7}, {\"Reflector use\": \"Never\", \"Sex\": \"Women\", \"age_group\": \"55-64\", \"percentage\": 2.5}]}}, {\"mode\": \"vega-lite\"});\n",
       "</script>"
      ],
      "text/plain": [
       "alt.Chart(...)"
      ]
     },
     "execution_count": 46,
     "metadata": {},
     "output_type": "execute_result"
    }
   ],
   "source": [
    "(reflectors\n",
    " .filter(pl.col(\"Reflector use\").eq(\"Never\"))\n",
    " .plot.line(x = \"age_group\", y = \"percentage\", color = \"Sex\")\n",
    " .properties(\n",
    "    width=600,\n",
    "    height=300\n",
    "    )\n",
    ")"
   ]
  },
  {
   "cell_type": "markdown",
   "metadata": {},
   "source": [
    "Classic. Men don't wear reflectors as much as women. Old people are less likely to say that they never wear reflectors. \n",
    "\n",
    "Actually I'm not sure who in Estonia lives in a place where they can only walk on well-lit streets. Let's combine that category with \"Never\"."
   ]
  },
  {
   "cell_type": "code",
   "execution_count": 47,
   "metadata": {},
   "outputs": [
    {
     "data": {
      "text/html": [
       "\n",
       "<style>\n",
       "  #altair-viz-6243e808deb54b15b0e96b7babf9ae42.vega-embed {\n",
       "    width: 100%;\n",
       "    display: flex;\n",
       "  }\n",
       "\n",
       "  #altair-viz-6243e808deb54b15b0e96b7babf9ae42.vega-embed details,\n",
       "  #altair-viz-6243e808deb54b15b0e96b7babf9ae42.vega-embed details summary {\n",
       "    position: relative;\n",
       "  }\n",
       "</style>\n",
       "<div id=\"altair-viz-6243e808deb54b15b0e96b7babf9ae42\"></div>\n",
       "<script type=\"text/javascript\">\n",
       "  var VEGA_DEBUG = (typeof VEGA_DEBUG == \"undefined\") ? {} : VEGA_DEBUG;\n",
       "  (function(spec, embedOpt){\n",
       "    let outputDiv = document.currentScript.previousElementSibling;\n",
       "    if (outputDiv.id !== \"altair-viz-6243e808deb54b15b0e96b7babf9ae42\") {\n",
       "      outputDiv = document.getElementById(\"altair-viz-6243e808deb54b15b0e96b7babf9ae42\");\n",
       "    }\n",
       "    const paths = {\n",
       "      \"vega\": \"https://cdn.jsdelivr.net/npm/vega@5?noext\",\n",
       "      \"vega-lib\": \"https://cdn.jsdelivr.net/npm/vega-lib?noext\",\n",
       "      \"vega-lite\": \"https://cdn.jsdelivr.net/npm/vega-lite@5.20.1?noext\",\n",
       "      \"vega-embed\": \"https://cdn.jsdelivr.net/npm/vega-embed@6?noext\",\n",
       "    };\n",
       "\n",
       "    function maybeLoadScript(lib, version) {\n",
       "      var key = `${lib.replace(\"-\", \"\")}_version`;\n",
       "      return (VEGA_DEBUG[key] == version) ?\n",
       "        Promise.resolve(paths[lib]) :\n",
       "        new Promise(function(resolve, reject) {\n",
       "          var s = document.createElement('script');\n",
       "          document.getElementsByTagName(\"head\")[0].appendChild(s);\n",
       "          s.async = true;\n",
       "          s.onload = () => {\n",
       "            VEGA_DEBUG[key] = version;\n",
       "            return resolve(paths[lib]);\n",
       "          };\n",
       "          s.onerror = () => reject(`Error loading script: ${paths[lib]}`);\n",
       "          s.src = paths[lib];\n",
       "        });\n",
       "    }\n",
       "\n",
       "    function showError(err) {\n",
       "      outputDiv.innerHTML = `<div class=\"error\" style=\"color:red;\">${err}</div>`;\n",
       "      throw err;\n",
       "    }\n",
       "\n",
       "    function displayChart(vegaEmbed) {\n",
       "      vegaEmbed(outputDiv, spec, embedOpt)\n",
       "        .catch(err => showError(`Javascript Error: ${err.message}<br>This usually means there's a typo in your chart specification. See the javascript console for the full traceback.`));\n",
       "    }\n",
       "\n",
       "    if(typeof define === \"function\" && define.amd) {\n",
       "      requirejs.config({paths});\n",
       "      require([\"vega-embed\"], displayChart, err => showError(`Error loading script: ${err.message}`));\n",
       "    } else {\n",
       "      maybeLoadScript(\"vega\", \"5\")\n",
       "        .then(() => maybeLoadScript(\"vega-lite\", \"5.20.1\"))\n",
       "        .then(() => maybeLoadScript(\"vega-embed\", \"6\"))\n",
       "        .catch(showError)\n",
       "        .then(() => displayChart(vegaEmbed));\n",
       "    }\n",
       "  })({\"config\": {\"view\": {\"continuousWidth\": 300, \"continuousHeight\": 300}}, \"data\": {\"name\": \"data-27e5d22aab58dfda62b4b83959d4e130\"}, \"mark\": {\"type\": \"line\", \"tooltip\": true}, \"encoding\": {\"color\": {\"field\": \"Sex\", \"type\": \"nominal\"}, \"x\": {\"field\": \"age_group\", \"type\": \"nominal\"}, \"y\": {\"field\": \"percentage\", \"type\": \"quantitative\"}}, \"height\": 300, \"params\": [{\"name\": \"param_2\", \"select\": {\"type\": \"interval\", \"encodings\": [\"x\", \"y\"]}, \"bind\": \"scales\"}], \"width\": 600, \"$schema\": \"https://vega.github.io/schema/vega-lite/v5.20.1.json\", \"datasets\": {\"data-27e5d22aab58dfda62b4b83959d4e130\": [{\"Reflector use\": \"Never\", \"Sex\": \"Men\", \"age_group\": \"16-24\", \"percentage\": 19.1}, {\"Reflector use\": \"Never\", \"Sex\": \"Women\", \"age_group\": \"16-24\", \"percentage\": 12.0}, {\"Reflector use\": \"Never\", \"Sex\": \"Men\", \"age_group\": \"25-34\", \"percentage\": 23.200000000000003}, {\"Reflector use\": \"Never\", \"Sex\": \"Women\", \"age_group\": \"25-34\", \"percentage\": 9.1}, {\"Reflector use\": \"Never\", \"Sex\": \"Men\", \"age_group\": \"35-44\", \"percentage\": 16.9}, {\"Reflector use\": \"Never\", \"Sex\": \"Women\", \"age_group\": \"35-44\", \"percentage\": 8.0}, {\"Reflector use\": \"Never\", \"Sex\": \"Men\", \"age_group\": \"45-54\", \"percentage\": 15.200000000000001}, {\"Reflector use\": \"Never\", \"Sex\": \"Women\", \"age_group\": \"45-54\", \"percentage\": 6.9}, {\"Reflector use\": \"Never\", \"Sex\": \"Men\", \"age_group\": \"55-64\", \"percentage\": 15.5}, {\"Reflector use\": \"Never\", \"Sex\": \"Women\", \"age_group\": \"55-64\", \"percentage\": 11.4}]}}, {\"mode\": \"vega-lite\"});\n",
       "</script>"
      ],
      "text/plain": [
       "alt.Chart(...)"
      ]
     },
     "execution_count": 47,
     "metadata": {},
     "output_type": "execute_result"
    }
   ],
   "source": [
    "(reflectors.\n",
    " with_columns(\n",
    "     pl.col(\"Reflector use\").str.replace(\"Never walk on dark streets, roads\", \"Never\")\n",
    " )\n",
    " .group_by([\"Reflector use\", \"Sex\", \"age_group\"])\n",
    " .agg(pl.col(\"percentage\").sum())\n",
    " .filter(pl.col(\"Reflector use\").eq(\"Never\"))\n",
    " .sort([\"age_group\", \"Sex\"])\n",
    " .plot.line(x = \"age_group\", y = \"percentage\", color = \"Sex\")\n",
    " .properties(\n",
    "    width=600,\n",
    "    height=300\n",
    "    )\n",
    ")"
   ]
  },
  {
   "cell_type": "markdown",
   "metadata": {},
   "source": [
    "Hmm. Maybe some people really don't walk a lot, but it's also likely that a lot of people, especially older people, don't see the need to wear reflectors. "
   ]
  },
  {
   "cell_type": "markdown",
   "metadata": {},
   "source": [
    "#### Sidebar on terminology\n",
    "\n",
    "There is a plethora of names to refer to the two basic directions of data reshaping. \n",
    "\n",
    "For wide to long, like we did here, **polars** uses `unpivot()`, **pandas** calls it `melt()`, and R's **dplyr** calls it...`pivot_longer()`. \n",
    "\n",
    "For the opposite, long to wider, **polars** and **pandas** both use `pivot()`, while R's **dplyr** calls it `pivot_sider()`. It's sometimes also referred to as \"cast\". \n",
    "\n",
    "To make things supremely confusing, spreadsheet software like Excel or Google Sheets also has the concept of a pivot table, which doesn't just pivot, but also summarizes data values. Unlike what we are doing here, where we are only changing the shape of our data, not values themselves. "
   ]
  },
  {
   "cell_type": "markdown",
   "metadata": {},
   "source": [
    "### (Optional) LazyFrames and bigger than memory data\n",
    "\n",
    "Aside from regular DataFrames, **polars** also has the concept of LazyFrames. These are abstract dataframes from some external source that are not read into memory (materialized) until you do something with them. And depending on what you do with them, this sometimes means that you can work with larger than memory datasets. \n",
    "\n",
    "We're not going to work with a 30GB dataset here, so let's just illustrate the intitution here with some code:\n",
    "\n",
    "```python\n",
    "smaller_data = (pl.scan_csv(\"huge/datafile.csv\")\n",
    "                .select(\"id1\", \"x1\", \"x2\")\n",
    "                .filter(pl.col(\"id1\") > 100)\n",
    "                .collect())\n",
    "```\n",
    "\n",
    "What this does is read data from a CSV, select 3 columns, and filter rows based on \"id1\" being greater than 100. \n",
    "\n",
    "There are two key bits here:\n",
    "\n",
    "- `pl.scan_csv()`: unlike `read_csv()`, this does not immediately read the entire data into memory, but rather streams it...and only once we tell it to.\n",
    "- `collect()` to indicate that we want to start executing (materializing) our query.\n",
    "\n",
    "What will happen with the particular code we have above is that polars will analyze our query and then applie to memory-saving optimizations:\n",
    "\n",
    "- It will only consider data that is in the 3 columns we selected.\n",
    "- From those columns, it will only read rows (elements) that satisfy our filter condition. \n",
    "\n",
    "More on LazyFrames and the [Lazy API](https://docs.pola.rs/user-guide/lazy/) at the user guide. "
   ]
  },
  {
   "cell_type": "markdown",
   "metadata": {},
   "source": [
    "## Pro-tip: always plot your data\n",
    "\n",
    "Sometimes your job is to pipe data from A to B, and that's fine. \n",
    "\n",
    "But if you are doing data analysis or modeling (AI, ML, ...), it often pays to be curious (and suspicious) about your data. Sometimes this helps you catch errors in what you are doing with the data. Othertimes it helps you reduce the \"garbage in\" part of the \"garbage in, garbace out\" equation. \n",
    "\n",
    "Here's a cute example some people created to make this point. We have two data sets, is there anything unusual about them?"
   ]
  },
  {
   "cell_type": "code",
   "execution_count": 48,
   "metadata": {},
   "outputs": [],
   "source": [
    "df1 = pl.read_csv(\"data/dataset1.csv\")\n",
    "df2 = pl.read_csv(\"data/dataset2.csv\")"
   ]
  },
  {
   "cell_type": "markdown",
   "metadata": {},
   "source": [
    "The data appear to be similar. Same number of rows and columns. "
   ]
  },
  {
   "cell_type": "code",
   "execution_count": 49,
   "metadata": {},
   "outputs": [
    {
     "data": {
      "text/plain": [
       "(142, 2)"
      ]
     },
     "execution_count": 49,
     "metadata": {},
     "output_type": "execute_result"
    }
   ],
   "source": [
    "df1.shape"
   ]
  },
  {
   "cell_type": "code",
   "execution_count": 50,
   "metadata": {},
   "outputs": [
    {
     "data": {
      "text/plain": [
       "(142, 2)"
      ]
     },
     "execution_count": 50,
     "metadata": {},
     "output_type": "execute_result"
    }
   ],
   "source": [
    "df2.shape"
   ]
  },
  {
   "cell_type": "markdown",
   "metadata": {},
   "source": [
    "They also have similar distributions:"
   ]
  },
  {
   "cell_type": "code",
   "execution_count": 51,
   "metadata": {},
   "outputs": [
    {
     "data": {
      "text/html": [
       "<div><style>\n",
       ".dataframe > thead > tr,\n",
       ".dataframe > tbody > tr {\n",
       "  text-align: right;\n",
       "  white-space: pre-wrap;\n",
       "}\n",
       "</style>\n",
       "<small>shape: (9, 3)</small><table border=\"1\" class=\"dataframe\"><thead><tr><th>statistic</th><th>x</th><th>y</th></tr><tr><td>str</td><td>f64</td><td>f64</td></tr></thead><tbody><tr><td>&quot;count&quot;</td><td>142.0</td><td>142.0</td></tr><tr><td>&quot;null_count&quot;</td><td>0.0</td><td>0.0</td></tr><tr><td>&quot;mean&quot;</td><td>54.2661</td><td>47.834721</td></tr><tr><td>&quot;std&quot;</td><td>16.769825</td><td>26.939743</td></tr><tr><td>&quot;min&quot;</td><td>15.56075</td><td>0.015119</td></tr><tr><td>&quot;25%&quot;</td><td>39.706326</td><td>24.46783</td></tr><tr><td>&quot;50%&quot;</td><td>53.421463</td><td>48.398346</td></tr><tr><td>&quot;75%&quot;</td><td>69.359559</td><td>71.806616</td></tr><tr><td>&quot;max&quot;</td><td>91.639961</td><td>97.475771</td></tr></tbody></table></div>"
      ],
      "text/plain": [
       "shape: (9, 3)\n",
       "┌────────────┬───────────┬───────────┐\n",
       "│ statistic  ┆ x         ┆ y         │\n",
       "│ ---        ┆ ---       ┆ ---       │\n",
       "│ str        ┆ f64       ┆ f64       │\n",
       "╞════════════╪═══════════╪═══════════╡\n",
       "│ count      ┆ 142.0     ┆ 142.0     │\n",
       "│ null_count ┆ 0.0       ┆ 0.0       │\n",
       "│ mean       ┆ 54.2661   ┆ 47.834721 │\n",
       "│ std        ┆ 16.769825 ┆ 26.939743 │\n",
       "│ min        ┆ 15.56075  ┆ 0.015119  │\n",
       "│ 25%        ┆ 39.706326 ┆ 24.46783  │\n",
       "│ 50%        ┆ 53.421463 ┆ 48.398346 │\n",
       "│ 75%        ┆ 69.359559 ┆ 71.806616 │\n",
       "│ max        ┆ 91.639961 ┆ 97.475771 │\n",
       "└────────────┴───────────┴───────────┘"
      ]
     },
     "execution_count": 51,
     "metadata": {},
     "output_type": "execute_result"
    }
   ],
   "source": [
    "df1.describe()"
   ]
  },
  {
   "cell_type": "code",
   "execution_count": 52,
   "metadata": {},
   "outputs": [
    {
     "data": {
      "text/html": [
       "<div><style>\n",
       ".dataframe > thead > tr,\n",
       ".dataframe > tbody > tr {\n",
       "  text-align: right;\n",
       "  white-space: pre-wrap;\n",
       "}\n",
       "</style>\n",
       "<small>shape: (9, 3)</small><table border=\"1\" class=\"dataframe\"><thead><tr><th>statistic</th><th>x</th><th>y</th></tr><tr><td>str</td><td>f64</td><td>f64</td></tr></thead><tbody><tr><td>&quot;count&quot;</td><td>142.0</td><td>142.0</td></tr><tr><td>&quot;null_count&quot;</td><td>0.0</td><td>0.0</td></tr><tr><td>&quot;mean&quot;</td><td>54.263273</td><td>47.832253</td></tr><tr><td>&quot;std&quot;</td><td>16.765142</td><td>26.935403</td></tr><tr><td>&quot;min&quot;</td><td>22.3077</td><td>2.9487</td></tr><tr><td>&quot;25%&quot;</td><td>44.1026</td><td>25.2564</td></tr><tr><td>&quot;50%&quot;</td><td>53.5897</td><td>46.0256</td></tr><tr><td>&quot;75%&quot;</td><td>64.8718</td><td>69.1026</td></tr><tr><td>&quot;max&quot;</td><td>98.2051</td><td>99.4872</td></tr></tbody></table></div>"
      ],
      "text/plain": [
       "shape: (9, 3)\n",
       "┌────────────┬───────────┬───────────┐\n",
       "│ statistic  ┆ x         ┆ y         │\n",
       "│ ---        ┆ ---       ┆ ---       │\n",
       "│ str        ┆ f64       ┆ f64       │\n",
       "╞════════════╪═══════════╪═══════════╡\n",
       "│ count      ┆ 142.0     ┆ 142.0     │\n",
       "│ null_count ┆ 0.0       ┆ 0.0       │\n",
       "│ mean       ┆ 54.263273 ┆ 47.832253 │\n",
       "│ std        ┆ 16.765142 ┆ 26.935403 │\n",
       "│ min        ┆ 22.3077   ┆ 2.9487    │\n",
       "│ 25%        ┆ 44.1026   ┆ 25.2564   │\n",
       "│ 50%        ┆ 53.5897   ┆ 46.0256   │\n",
       "│ 75%        ┆ 64.8718   ┆ 69.1026   │\n",
       "│ max        ┆ 98.2051   ┆ 99.4872   │\n",
       "└────────────┴───────────┴───────────┘"
      ]
     },
     "execution_count": 52,
     "metadata": {},
     "output_type": "execute_result"
    }
   ],
   "source": [
    "df2.describe()"
   ]
  },
  {
   "cell_type": "markdown",
   "metadata": {},
   "source": [
    "As you can guess from the section heading, we should try plotting them. (If the \"x\" and \"y\" column names weren't hint enough by themselves...)"
   ]
  },
  {
   "cell_type": "code",
   "execution_count": 53,
   "metadata": {},
   "outputs": [
    {
     "data": {
      "text/html": [
       "\n",
       "<style>\n",
       "  #altair-viz-91489e3b48224adcb5dc4c41fff61fa6.vega-embed {\n",
       "    width: 100%;\n",
       "    display: flex;\n",
       "  }\n",
       "\n",
       "  #altair-viz-91489e3b48224adcb5dc4c41fff61fa6.vega-embed details,\n",
       "  #altair-viz-91489e3b48224adcb5dc4c41fff61fa6.vega-embed details summary {\n",
       "    position: relative;\n",
       "  }\n",
       "</style>\n",
       "<div id=\"altair-viz-91489e3b48224adcb5dc4c41fff61fa6\"></div>\n",
       "<script type=\"text/javascript\">\n",
       "  var VEGA_DEBUG = (typeof VEGA_DEBUG == \"undefined\") ? {} : VEGA_DEBUG;\n",
       "  (function(spec, embedOpt){\n",
       "    let outputDiv = document.currentScript.previousElementSibling;\n",
       "    if (outputDiv.id !== \"altair-viz-91489e3b48224adcb5dc4c41fff61fa6\") {\n",
       "      outputDiv = document.getElementById(\"altair-viz-91489e3b48224adcb5dc4c41fff61fa6\");\n",
       "    }\n",
       "    const paths = {\n",
       "      \"vega\": \"https://cdn.jsdelivr.net/npm/vega@5?noext\",\n",
       "      \"vega-lib\": \"https://cdn.jsdelivr.net/npm/vega-lib?noext\",\n",
       "      \"vega-lite\": \"https://cdn.jsdelivr.net/npm/vega-lite@5.20.1?noext\",\n",
       "      \"vega-embed\": \"https://cdn.jsdelivr.net/npm/vega-embed@6?noext\",\n",
       "    };\n",
       "\n",
       "    function maybeLoadScript(lib, version) {\n",
       "      var key = `${lib.replace(\"-\", \"\")}_version`;\n",
       "      return (VEGA_DEBUG[key] == version) ?\n",
       "        Promise.resolve(paths[lib]) :\n",
       "        new Promise(function(resolve, reject) {\n",
       "          var s = document.createElement('script');\n",
       "          document.getElementsByTagName(\"head\")[0].appendChild(s);\n",
       "          s.async = true;\n",
       "          s.onload = () => {\n",
       "            VEGA_DEBUG[key] = version;\n",
       "            return resolve(paths[lib]);\n",
       "          };\n",
       "          s.onerror = () => reject(`Error loading script: ${paths[lib]}`);\n",
       "          s.src = paths[lib];\n",
       "        });\n",
       "    }\n",
       "\n",
       "    function showError(err) {\n",
       "      outputDiv.innerHTML = `<div class=\"error\" style=\"color:red;\">${err}</div>`;\n",
       "      throw err;\n",
       "    }\n",
       "\n",
       "    function displayChart(vegaEmbed) {\n",
       "      vegaEmbed(outputDiv, spec, embedOpt)\n",
       "        .catch(err => showError(`Javascript Error: ${err.message}<br>This usually means there's a typo in your chart specification. See the javascript console for the full traceback.`));\n",
       "    }\n",
       "\n",
       "    if(typeof define === \"function\" && define.amd) {\n",
       "      requirejs.config({paths});\n",
       "      require([\"vega-embed\"], displayChart, err => showError(`Error loading script: ${err.message}`));\n",
       "    } else {\n",
       "      maybeLoadScript(\"vega\", \"5\")\n",
       "        .then(() => maybeLoadScript(\"vega-lite\", \"5.20.1\"))\n",
       "        .then(() => maybeLoadScript(\"vega-embed\", \"6\"))\n",
       "        .catch(showError)\n",
       "        .then(() => displayChart(vegaEmbed));\n",
       "    }\n",
       "  })({\"config\": {\"view\": {\"continuousWidth\": 300, \"continuousHeight\": 300}}, \"data\": {\"name\": \"data-78727878deffc03edc1c0ce70647bd8f\"}, \"mark\": {\"type\": \"point\", \"tooltip\": true}, \"encoding\": {\"x\": {\"field\": \"x\", \"type\": \"quantitative\"}, \"y\": {\"field\": \"y\", \"type\": \"quantitative\"}}, \"params\": [{\"name\": \"param_3\", \"select\": {\"type\": \"interval\", \"encodings\": [\"x\", \"y\"]}, \"bind\": \"scales\"}], \"$schema\": \"https://vega.github.io/schema/vega-lite/v5.20.1.json\", \"datasets\": {\"data-78727878deffc03edc1c0ce70647bd8f\": [{\"x\": 32.3311102266, \"y\": 61.411101248}, {\"x\": 53.4214628807, \"y\": 26.1868803879}, {\"x\": 63.92020226, \"y\": 30.8321939163}, {\"x\": 70.2895057187, \"y\": 82.5336485877}, {\"x\": 34.1188302357, \"y\": 45.7345513203}, {\"x\": 67.6707164012, \"y\": 37.110947969}, {\"x\": 53.2591294055, \"y\": 97.4757710964}, {\"x\": 63.5149808671, \"y\": 25.1000785788}, {\"x\": 67.9805388133, \"y\": 80.9571652197}, {\"x\": 67.3724659005, \"y\": 29.720400203}, {\"x\": 15.5607495229, \"y\": 80.0656402858}, {\"x\": 71.7907676942, \"y\": 71.0654666627}, {\"x\": 70.2425464362, \"y\": 24.1095975542}, {\"x\": 64.9374355444, \"y\": 81.5542049945}, {\"x\": 62.2135245453, \"y\": 21.4758389969}, {\"x\": 67.2694004772, \"y\": 18.7089683725}, {\"x\": 40.5701970446, \"y\": 79.3729634752}, {\"x\": 74.7411813341, \"y\": 21.1016372041}, {\"x\": 71.7683189223, \"y\": 20.0110618423}, {\"x\": 76.1669198143, \"y\": 75.9361704048}, {\"x\": 65.6236574431, \"y\": 15.5828033531}, {\"x\": 50.8506336394, \"y\": 13.9876016304}, {\"x\": 33.0240700249, \"y\": 24.4678303872}, {\"x\": 39.7063261674, \"y\": 84.2752871038}, {\"x\": 45.5964849542, \"y\": 9.76334884943}, {\"x\": 42.9680469104, \"y\": 17.9454583961}, {\"x\": 52.4944067819, \"y\": 16.0511142003}, {\"x\": 46.0822757831, \"y\": 23.1104578154}, {\"x\": 74.2477082092, \"y\": 20.314187812}, {\"x\": 64.5682641863, \"y\": 83.6396338956}, {\"x\": 74.0216939058, \"y\": 76.1282745076}, {\"x\": 62.3911805626, \"y\": 5.62307076073}, {\"x\": 74.189036683, \"y\": 68.1335832223}, {\"x\": 28.2367819396, \"y\": 56.1395964513}, {\"x\": 75.7719387944, \"y\": 69.8292300322}, {\"x\": 75.8552294691, \"y\": 62.5170442862}, {\"x\": 65.9708570175, \"y\": 72.7448559954}, {\"x\": 21.7780404779, \"y\": 6.61662530728}, {\"x\": 67.7597962473, \"y\": 72.4212015285}, {\"x\": 78.6171953363, \"y\": 52.5752573142}, {\"x\": 68.5077081898, \"y\": 15.4569189652}, {\"x\": 74.8850211598, \"y\": 25.4166063231}, {\"x\": 66.4549036599, \"y\": 19.8366286542}, {\"x\": 77.3178020985, \"y\": 48.3983464352}, {\"x\": 58.9124603193, \"y\": 75.6677562173}, {\"x\": 57.617447817, \"y\": 8.19480060319}, {\"x\": 76.0882257967, \"y\": 59.6799300235}, {\"x\": 57.4660505497, \"y\": 1.50441817488}, {\"x\": 79.4283834934, \"y\": 45.2107942872}, {\"x\": 76.3565221496, \"y\": 10.4182411281}, {\"x\": 64.4050752632, \"y\": 78.5841760758}, {\"x\": 40.6350418091, \"y\": 73.3947503698}, {\"x\": 43.9498645857, \"y\": 75.9587156671}, {\"x\": 30.9962205791, \"y\": 71.694404938}, {\"x\": 68.2307689907, \"y\": 80.8725016628}, {\"x\": 72.0463894612, \"y\": 12.9180067349}, {\"x\": 46.5927679682, \"y\": 84.9723827774}, {\"x\": 49.2572183396, \"y\": 81.8814032306}, {\"x\": 42.7817612539, \"y\": 12.9911884302}, {\"x\": 65.475952195, \"y\": 14.2745856444}, {\"x\": 71.9650826544, \"y\": 17.7102359443}, {\"x\": 32.1464623358, \"y\": 43.4817094425}, {\"x\": 31.8384976954, \"y\": 71.8121653901}, {\"x\": 31.0052582572, \"y\": 40.682503007}, {\"x\": 80.4708943189, \"y\": 49.5021483467}, {\"x\": 71.9641671122, \"y\": 41.8742826668}, {\"x\": 78.0794214417, \"y\": 93.1333167652}, {\"x\": 41.6775957748, \"y\": 30.2012640846}, {\"x\": 65.953595185, \"y\": 31.1474060835}, {\"x\": 62.9344593731, \"y\": 31.9163906992}, {\"x\": 64.3737979844, \"y\": 28.8625834061}, {\"x\": 72.5093283599, \"y\": 39.5401302526}, {\"x\": 30.0522898741, \"y\": 96.6175423534}, {\"x\": 28.0033242354, \"y\": 46.6721919544}, {\"x\": 75.4012268619, \"y\": 88.6390766207}, {\"x\": 38.9800154218, \"y\": 87.322160691}, {\"x\": 65.2199135479, \"y\": 84.6829549336}, {\"x\": 73.0539899616, \"y\": 29.3808085571}, {\"x\": 34.3983616372, \"y\": 59.5444469033}, {\"x\": 43.4904501336, \"y\": 40.782542065}, {\"x\": 55.138737967, \"y\": 30.7257603575}, {\"x\": 43.6843934333, \"y\": 32.8230098696}, {\"x\": 35.9036097344, \"y\": 91.1118630801}, {\"x\": 45.3780188805, \"y\": 29.1692166544}, {\"x\": 39.7774828713, \"y\": 43.75581895}, {\"x\": 38.6644611569, \"y\": 33.3172384774}, {\"x\": 39.0440366877, \"y\": 84.6760108316}, {\"x\": 91.6399614428, \"y\": 79.4066030605}, {\"x\": 47.4881326771, \"y\": 85.3899333808}, {\"x\": 44.5902125769, \"y\": 22.0340116412}, {\"x\": 39.0896145478, \"y\": 70.4661940802}, {\"x\": 42.2293783752, \"y\": 19.9140684075}, {\"x\": 37.0003871448, \"y\": 60.264279248}, {\"x\": 39.0520864793, \"y\": 70.6525028457}, {\"x\": 37.4884147432, \"y\": 60.8144048511}, {\"x\": 69.3595594592, \"y\": 65.5213545959}, {\"x\": 43.542775926, \"y\": 62.4603112824}, {\"x\": 39.8112302539, \"y\": 65.3348328092}, {\"x\": 70.0689259404, \"y\": 7.59346560899}, {\"x\": 70.0405435824, \"y\": 77.1438066024}, {\"x\": 39.505789079, \"y\": 74.8516272173}, {\"x\": 62.5168908529, \"y\": 66.4847322418}, {\"x\": 72.1399254065, \"y\": 0.0151193251552}, {\"x\": 45.2515760666, \"y\": 70.0034213192}, {\"x\": 42.0633045627, \"y\": 2.33519661206}, {\"x\": 36.3556951539, \"y\": 6.0058486497}, {\"x\": 30.3918276596, \"y\": 42.75961287}, {\"x\": 36.4490038543, \"y\": 50.5462690659}, {\"x\": 40.467576002, \"y\": 60.0275120878}, {\"x\": 81.7246168002, \"y\": 6.03754484635}, {\"x\": 48.8231974964, \"y\": 76.6353305783}, {\"x\": 35.6205617651, \"y\": 57.2860155789}, {\"x\": 50.5839631148, \"y\": 71.8066161014}, {\"x\": 61.8564651063, \"y\": 71.7927431642}, {\"x\": 39.3237560262, \"y\": 59.3008196656}, {\"x\": 42.1856791429, \"y\": 66.0348978235}, {\"x\": 30.8469189898, \"y\": 37.3416401041}, {\"x\": 29.3462004281, \"y\": 42.1487418312}, {\"x\": 82.1105579783, \"y\": 1.21055166293}, {\"x\": 38.3020058088, \"y\": 60.0177857932}, {\"x\": 56.5841530218, \"y\": 70.512514809}, {\"x\": 33.3393742865, \"y\": 0.5091067352}, {\"x\": 78.7742390407, \"y\": 35.4841012146}, {\"x\": 27.9226442446, \"y\": 25.9868781844}, {\"x\": 71.6978651182, \"y\": 10.8681445111}, {\"x\": 74.1383313856, \"y\": 49.1739189791}, {\"x\": 32.579020066, \"y\": 1.80811559665}, {\"x\": 59.83218542, \"y\": 69.1525081443}, {\"x\": 35.0306285457, \"y\": 12.5366493416}, {\"x\": 74.3001198284, \"y\": 42.4770945921}, {\"x\": 63.2501970628, \"y\": 65.9524861966}, {\"x\": 34.1730737648, \"y\": 25.6936743092}, {\"x\": 40.9138319319, \"y\": 38.5590195509}, {\"x\": 62.8332930874, \"y\": 62.5108942269}, {\"x\": 42.4767923803, \"y\": 56.7312899691}, {\"x\": 52.0334562787, \"y\": 64.5666620298}, {\"x\": 48.9070429644, \"y\": 74.2877488252}, {\"x\": 59.8518383854, \"y\": 72.9583909677}, {\"x\": 48.9604602016, \"y\": 72.6295257275}, {\"x\": 46.8448551673, \"y\": 36.7917136918}, {\"x\": 39.9630215796, \"y\": 42.9449148487}, {\"x\": 66.704943997, \"y\": 32.0150954299}]}}, {\"mode\": \"vega-lite\"});\n",
       "</script>"
      ],
      "text/plain": [
       "alt.Chart(...)"
      ]
     },
     "execution_count": 53,
     "metadata": {},
     "output_type": "execute_result"
    }
   ],
   "source": [
    "df1.plot.point(\"x\", \"y\")"
   ]
  },
  {
   "cell_type": "markdown",
   "metadata": {},
   "source": [
    "Ok, all good, looks boring. "
   ]
  },
  {
   "cell_type": "code",
   "execution_count": 54,
   "metadata": {},
   "outputs": [
    {
     "data": {
      "text/html": [
       "\n",
       "<style>\n",
       "  #altair-viz-b0f7b798b88e4dd58d659b37ba623814.vega-embed {\n",
       "    width: 100%;\n",
       "    display: flex;\n",
       "  }\n",
       "\n",
       "  #altair-viz-b0f7b798b88e4dd58d659b37ba623814.vega-embed details,\n",
       "  #altair-viz-b0f7b798b88e4dd58d659b37ba623814.vega-embed details summary {\n",
       "    position: relative;\n",
       "  }\n",
       "</style>\n",
       "<div id=\"altair-viz-b0f7b798b88e4dd58d659b37ba623814\"></div>\n",
       "<script type=\"text/javascript\">\n",
       "  var VEGA_DEBUG = (typeof VEGA_DEBUG == \"undefined\") ? {} : VEGA_DEBUG;\n",
       "  (function(spec, embedOpt){\n",
       "    let outputDiv = document.currentScript.previousElementSibling;\n",
       "    if (outputDiv.id !== \"altair-viz-b0f7b798b88e4dd58d659b37ba623814\") {\n",
       "      outputDiv = document.getElementById(\"altair-viz-b0f7b798b88e4dd58d659b37ba623814\");\n",
       "    }\n",
       "    const paths = {\n",
       "      \"vega\": \"https://cdn.jsdelivr.net/npm/vega@5?noext\",\n",
       "      \"vega-lib\": \"https://cdn.jsdelivr.net/npm/vega-lib?noext\",\n",
       "      \"vega-lite\": \"https://cdn.jsdelivr.net/npm/vega-lite@5.20.1?noext\",\n",
       "      \"vega-embed\": \"https://cdn.jsdelivr.net/npm/vega-embed@6?noext\",\n",
       "    };\n",
       "\n",
       "    function maybeLoadScript(lib, version) {\n",
       "      var key = `${lib.replace(\"-\", \"\")}_version`;\n",
       "      return (VEGA_DEBUG[key] == version) ?\n",
       "        Promise.resolve(paths[lib]) :\n",
       "        new Promise(function(resolve, reject) {\n",
       "          var s = document.createElement('script');\n",
       "          document.getElementsByTagName(\"head\")[0].appendChild(s);\n",
       "          s.async = true;\n",
       "          s.onload = () => {\n",
       "            VEGA_DEBUG[key] = version;\n",
       "            return resolve(paths[lib]);\n",
       "          };\n",
       "          s.onerror = () => reject(`Error loading script: ${paths[lib]}`);\n",
       "          s.src = paths[lib];\n",
       "        });\n",
       "    }\n",
       "\n",
       "    function showError(err) {\n",
       "      outputDiv.innerHTML = `<div class=\"error\" style=\"color:red;\">${err}</div>`;\n",
       "      throw err;\n",
       "    }\n",
       "\n",
       "    function displayChart(vegaEmbed) {\n",
       "      vegaEmbed(outputDiv, spec, embedOpt)\n",
       "        .catch(err => showError(`Javascript Error: ${err.message}<br>This usually means there's a typo in your chart specification. See the javascript console for the full traceback.`));\n",
       "    }\n",
       "\n",
       "    if(typeof define === \"function\" && define.amd) {\n",
       "      requirejs.config({paths});\n",
       "      require([\"vega-embed\"], displayChart, err => showError(`Error loading script: ${err.message}`));\n",
       "    } else {\n",
       "      maybeLoadScript(\"vega\", \"5\")\n",
       "        .then(() => maybeLoadScript(\"vega-lite\", \"5.20.1\"))\n",
       "        .then(() => maybeLoadScript(\"vega-embed\", \"6\"))\n",
       "        .catch(showError)\n",
       "        .then(() => displayChart(vegaEmbed));\n",
       "    }\n",
       "  })({\"config\": {\"view\": {\"continuousWidth\": 300, \"continuousHeight\": 300}}, \"data\": {\"name\": \"data-eb6365c37c0bb197a00403261ef439fc\"}, \"mark\": {\"type\": \"point\", \"tooltip\": true}, \"encoding\": {\"x\": {\"field\": \"x\", \"type\": \"quantitative\"}, \"y\": {\"field\": \"y\", \"type\": \"quantitative\"}}, \"params\": [{\"name\": \"param_4\", \"select\": {\"type\": \"interval\", \"encodings\": [\"x\", \"y\"]}, \"bind\": \"scales\"}], \"$schema\": \"https://vega.github.io/schema/vega-lite/v5.20.1.json\", \"datasets\": {\"data-eb6365c37c0bb197a00403261ef439fc\": [{\"x\": 55.3846, \"y\": 97.1795}, {\"x\": 51.5385, \"y\": 96.0256}, {\"x\": 46.1538, \"y\": 94.4872}, {\"x\": 42.8205, \"y\": 91.4103}, {\"x\": 40.7692, \"y\": 88.3333}, {\"x\": 38.7179, \"y\": 84.8718}, {\"x\": 35.641, \"y\": 79.8718}, {\"x\": 33.0769, \"y\": 77.5641}, {\"x\": 28.9744, \"y\": 74.4872}, {\"x\": 26.1538, \"y\": 71.4103}, {\"x\": 23.0769, \"y\": 66.4103}, {\"x\": 22.3077, \"y\": 61.7949}, {\"x\": 22.3077, \"y\": 57.1795}, {\"x\": 23.3333, \"y\": 52.9487}, {\"x\": 25.8974, \"y\": 51.0256}, {\"x\": 29.4872, \"y\": 51.0256}, {\"x\": 32.8205, \"y\": 51.0256}, {\"x\": 35.3846, \"y\": 51.4103}, {\"x\": 40.2564, \"y\": 51.4103}, {\"x\": 44.1026, \"y\": 52.9487}, {\"x\": 46.6667, \"y\": 54.1026}, {\"x\": 50.0, \"y\": 55.2564}, {\"x\": 53.0769, \"y\": 55.641}, {\"x\": 56.6667, \"y\": 56.0256}, {\"x\": 59.2308, \"y\": 57.9487}, {\"x\": 61.2821, \"y\": 62.1795}, {\"x\": 61.5385, \"y\": 66.4103}, {\"x\": 61.7949, \"y\": 69.1026}, {\"x\": 57.4359, \"y\": 55.2564}, {\"x\": 54.8718, \"y\": 49.8718}, {\"x\": 52.5641, \"y\": 46.0256}, {\"x\": 48.2051, \"y\": 38.3333}, {\"x\": 49.4872, \"y\": 42.1795}, {\"x\": 51.0256, \"y\": 44.1026}, {\"x\": 45.3846, \"y\": 36.4103}, {\"x\": 42.8205, \"y\": 32.5641}, {\"x\": 38.7179, \"y\": 31.4103}, {\"x\": 35.1282, \"y\": 30.2564}, {\"x\": 32.5641, \"y\": 32.1795}, {\"x\": 30.0, \"y\": 36.7949}, {\"x\": 33.5897, \"y\": 41.4103}, {\"x\": 36.6667, \"y\": 45.641}, {\"x\": 38.2051, \"y\": 49.1026}, {\"x\": 29.7436, \"y\": 36.0256}, {\"x\": 29.7436, \"y\": 32.1795}, {\"x\": 30.0, \"y\": 29.1026}, {\"x\": 32.0513, \"y\": 26.7949}, {\"x\": 35.8974, \"y\": 25.2564}, {\"x\": 41.0256, \"y\": 25.2564}, {\"x\": 44.1026, \"y\": 25.641}, {\"x\": 47.1795, \"y\": 28.718}, {\"x\": 49.4872, \"y\": 31.4103}, {\"x\": 51.5385, \"y\": 34.8718}, {\"x\": 53.5897, \"y\": 37.5641}, {\"x\": 55.1282, \"y\": 40.641}, {\"x\": 56.6667, \"y\": 42.1795}, {\"x\": 59.2308, \"y\": 44.4872}, {\"x\": 62.3077, \"y\": 46.0256}, {\"x\": 64.8718, \"y\": 46.7949}, {\"x\": 67.9487, \"y\": 47.9487}, {\"x\": 70.5128, \"y\": 53.718}, {\"x\": 71.5385, \"y\": 60.641}, {\"x\": 71.5385, \"y\": 64.4872}, {\"x\": 69.4872, \"y\": 69.4872}, {\"x\": 46.9231, \"y\": 79.8718}, {\"x\": 48.2051, \"y\": 84.1026}, {\"x\": 50.0, \"y\": 85.2564}, {\"x\": 53.0769, \"y\": 85.2564}, {\"x\": 55.3846, \"y\": 86.0256}, {\"x\": 56.6667, \"y\": 86.0256}, {\"x\": 56.1538, \"y\": 82.9487}, {\"x\": 53.8462, \"y\": 80.641}, {\"x\": 51.2821, \"y\": 78.718}, {\"x\": 50.0, \"y\": 78.718}, {\"x\": 47.9487, \"y\": 77.5641}, {\"x\": 29.7436, \"y\": 59.8718}, {\"x\": 29.7436, \"y\": 62.1795}, {\"x\": 31.2821, \"y\": 62.5641}, {\"x\": 57.9487, \"y\": 99.4872}, {\"x\": 61.7949, \"y\": 99.1026}, {\"x\": 64.8718, \"y\": 97.5641}, {\"x\": 68.4615, \"y\": 94.1026}, {\"x\": 70.7692, \"y\": 91.0256}, {\"x\": 72.0513, \"y\": 86.4103}, {\"x\": 73.8462, \"y\": 83.3333}, {\"x\": 75.1282, \"y\": 79.1026}, {\"x\": 76.6667, \"y\": 75.2564}, {\"x\": 77.6923, \"y\": 71.4103}, {\"x\": 79.7436, \"y\": 66.7949}, {\"x\": 81.7949, \"y\": 60.2564}, {\"x\": 83.3333, \"y\": 55.2564}, {\"x\": 85.1282, \"y\": 51.4103}, {\"x\": 86.4103, \"y\": 47.5641}, {\"x\": 87.9487, \"y\": 46.0256}, {\"x\": 89.4872, \"y\": 42.5641}, {\"x\": 93.3333, \"y\": 39.8718}, {\"x\": 95.3846, \"y\": 36.7949}, {\"x\": 98.2051, \"y\": 33.718}, {\"x\": 56.6667, \"y\": 40.641}, {\"x\": 59.2308, \"y\": 38.3333}, {\"x\": 60.7692, \"y\": 33.718}, {\"x\": 63.0769, \"y\": 29.1026}, {\"x\": 64.1026, \"y\": 25.2564}, {\"x\": 64.359, \"y\": 24.1026}, {\"x\": 74.359, \"y\": 22.9487}, {\"x\": 71.2821, \"y\": 22.9487}, {\"x\": 67.9487, \"y\": 22.1795}, {\"x\": 65.8974, \"y\": 20.2564}, {\"x\": 63.0769, \"y\": 19.1026}, {\"x\": 61.2821, \"y\": 19.1026}, {\"x\": 58.7179, \"y\": 18.3333}, {\"x\": 55.1282, \"y\": 18.3333}, {\"x\": 52.3077, \"y\": 18.3333}, {\"x\": 49.7436, \"y\": 17.5641}, {\"x\": 47.4359, \"y\": 16.0256}, {\"x\": 44.8718, \"y\": 13.718}, {\"x\": 48.7179, \"y\": 14.8718}, {\"x\": 51.2821, \"y\": 14.8718}, {\"x\": 54.1026, \"y\": 14.8718}, {\"x\": 56.1538, \"y\": 14.1026}, {\"x\": 52.0513, \"y\": 12.5641}, {\"x\": 48.7179, \"y\": 11.0256}, {\"x\": 47.1795, \"y\": 9.8718}, {\"x\": 46.1538, \"y\": 6.0256}, {\"x\": 50.5128, \"y\": 9.4872}, {\"x\": 53.8462, \"y\": 10.2564}, {\"x\": 57.4359, \"y\": 10.2564}, {\"x\": 60.0, \"y\": 10.641}, {\"x\": 64.1026, \"y\": 10.641}, {\"x\": 66.9231, \"y\": 10.641}, {\"x\": 71.2821, \"y\": 10.641}, {\"x\": 74.359, \"y\": 10.641}, {\"x\": 78.2051, \"y\": 10.641}, {\"x\": 67.9487, \"y\": 8.718}, {\"x\": 68.4615, \"y\": 5.2564}, {\"x\": 68.2051, \"y\": 2.9487}, {\"x\": 37.6923, \"y\": 25.7692}, {\"x\": 39.4872, \"y\": 25.3846}, {\"x\": 91.2821, \"y\": 41.5385}, {\"x\": 50.0, \"y\": 95.7692}, {\"x\": 47.9487, \"y\": 95.0}, {\"x\": 44.1026, \"y\": 92.6923}]}}, {\"mode\": \"vega-lite\"});\n",
       "</script>"
      ],
      "text/plain": [
       "alt.Chart(...)"
      ]
     },
     "execution_count": 54,
     "metadata": {},
     "output_type": "execute_result"
    }
   ],
   "source": [
    "df2.plot.point(\"x\", \"y\")"
   ]
  },
  {
   "cell_type": "markdown",
   "metadata": {},
   "source": [
    "Ahaa! 🦖"
   ]
  },
  {
   "cell_type": "markdown",
   "metadata": {},
   "source": [
    "## Appendix"
   ]
  },
  {
   "cell_type": "markdown",
   "metadata": {},
   "source": [
    "### Datasaurus\n",
    "\n",
    "The cute point data from the last example came from a dataset called the [Datasaurus dozen](https://en.wikipedia.org/wiki/Datasaurus_dozen), which itself was inspired by an earlier, famous statistical toy dataset, [Anscombe's quartet](https://en.wikipedia.org/wiki/Anscombe%27s_quartet).\n",
    "\n",
    "The other 10 datasaurus plots are also here in the data, we just took out the two above to make life easier for the workshop. "
   ]
  },
  {
   "cell_type": "code",
   "execution_count": 55,
   "metadata": {},
   "outputs": [],
   "source": [
    "# split this file but just use it to make a point about also plotting data\n",
    "datasaurus = pd.read_csv(\"data/datasaurus.csv\")\n",
    "\n",
    "df1 = datasaurus[datasaurus[\"dataset\"] == \"away\"].drop(\"dataset\", axis=1)\n",
    "df2 = datasaurus[datasaurus[\"dataset\"] == \"dino\"].drop(\"dataset\", axis=1)\n",
    "\n",
    "df1.to_csv(\"data/dataset1.csv\", index=False)\n",
    "df2.to_csv(\"data/dataset2.csv\", index=False)"
   ]
  }
 ],
 "metadata": {
  "kernelspec": {
   "display_name": "dataframes_workshop",
   "language": "python",
   "name": "python3"
  },
  "language_info": {
   "codemirror_mode": {
    "name": "ipython",
    "version": 3
   },
   "file_extension": ".py",
   "mimetype": "text/x-python",
   "name": "python",
   "nbconvert_exporter": "python",
   "pygments_lexer": "ipython3",
   "version": "3.12.7"
  }
 },
 "nbformat": 4,
 "nbformat_minor": 2
}
