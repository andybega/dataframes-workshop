{
 "cells": [
  {
   "cell_type": "markdown",
   "metadata": {},
   "source": [
    "## pandas"
   ]
  },
  {
   "cell_type": "markdown",
   "metadata": {},
   "source": [
    "### Getting Started"
   ]
  },
  {
   "cell_type": "code",
   "execution_count": 1,
   "metadata": {},
   "outputs": [],
   "source": [
    "import numpy as np\n",
    "import pandas as pd\n",
    "\n",
    "\n",
    "df = pd.DataFrame({\n",
    "    \"quarter\": [1, 1, 1, 2, 2, 2, 3, 3, 3, 4, 4, 4],\n",
    "    \"x\": np.random.randn(12),\n",
    "    \"date\": pd.date_range(\"2024-01-01\", periods=12, freq=\"MS\")\n",
    "})"
   ]
  },
  {
   "cell_type": "markdown",
   "metadata": {},
   "source": [
    "### Estonian Accidents Data"
   ]
  },
  {
   "cell_type": "code",
   "execution_count": 2,
   "metadata": {},
   "outputs": [],
   "source": [
    "accidents = pd.read_csv(\"data/estonia-traffic-accidents-clean.csv\")"
   ]
  },
  {
   "cell_type": "markdown",
   "metadata": {},
   "source": [
    "#### Inspecting"
   ]
  },
  {
   "cell_type": "code",
   "execution_count": 3,
   "metadata": {},
   "outputs": [
    {
     "data": {
      "text/plain": [
       "(14259, 8)"
      ]
     },
     "execution_count": 3,
     "metadata": {},
     "output_type": "execute_result"
    }
   ],
   "source": [
    "accidents.shape"
   ]
  },
  {
   "cell_type": "code",
   "execution_count": 4,
   "metadata": {},
   "outputs": [
    {
     "data": {
      "text/html": [
       "<div>\n",
       "<style scoped>\n",
       "    .dataframe tbody tr th:only-of-type {\n",
       "        vertical-align: middle;\n",
       "    }\n",
       "\n",
       "    .dataframe tbody tr th {\n",
       "        vertical-align: top;\n",
       "    }\n",
       "\n",
       "    .dataframe thead th {\n",
       "        text-align: right;\n",
       "    }\n",
       "</style>\n",
       "<table border=\"1\" class=\"dataframe\">\n",
       "  <thead>\n",
       "    <tr style=\"text-align: right;\">\n",
       "      <th></th>\n",
       "      <th>date</th>\n",
       "      <th>persons_involved</th>\n",
       "      <th>killed</th>\n",
       "      <th>injured</th>\n",
       "      <th>county</th>\n",
       "      <th>pedestrian_involved</th>\n",
       "      <th>accident_type</th>\n",
       "      <th>light_conditions</th>\n",
       "    </tr>\n",
       "  </thead>\n",
       "  <tbody>\n",
       "    <tr>\n",
       "      <th>0</th>\n",
       "      <td>2014-10-24 08:45:00</td>\n",
       "      <td>2</td>\n",
       "      <td>0</td>\n",
       "      <td>1</td>\n",
       "      <td>Harju maakond</td>\n",
       "      <td>1</td>\n",
       "      <td>Jalakäijaõnnetus</td>\n",
       "      <td>Valge aeg</td>\n",
       "    </tr>\n",
       "    <tr>\n",
       "      <th>1</th>\n",
       "      <td>2014-10-24 13:45:00</td>\n",
       "      <td>2</td>\n",
       "      <td>0</td>\n",
       "      <td>1</td>\n",
       "      <td>Harju maakond</td>\n",
       "      <td>0</td>\n",
       "      <td>Kokkupõrge</td>\n",
       "      <td>Valge aeg</td>\n",
       "    </tr>\n",
       "    <tr>\n",
       "      <th>2</th>\n",
       "      <td>2014-08-11 00:00:00</td>\n",
       "      <td>2</td>\n",
       "      <td>0</td>\n",
       "      <td>1</td>\n",
       "      <td>Harju maakond</td>\n",
       "      <td>0</td>\n",
       "      <td>Kokkupõrge</td>\n",
       "      <td>Valge aeg</td>\n",
       "    </tr>\n",
       "    <tr>\n",
       "      <th>3</th>\n",
       "      <td>2014-11-17 17:32:00</td>\n",
       "      <td>2</td>\n",
       "      <td>0</td>\n",
       "      <td>2</td>\n",
       "      <td>Harju maakond</td>\n",
       "      <td>0</td>\n",
       "      <td>Kokkupõrge</td>\n",
       "      <td>Pimeda aeg</td>\n",
       "    </tr>\n",
       "    <tr>\n",
       "      <th>4</th>\n",
       "      <td>2015-04-28 07:55:00</td>\n",
       "      <td>2</td>\n",
       "      <td>0</td>\n",
       "      <td>1</td>\n",
       "      <td>Harju maakond</td>\n",
       "      <td>0</td>\n",
       "      <td>Kokkupõrge</td>\n",
       "      <td>Valge aeg</td>\n",
       "    </tr>\n",
       "  </tbody>\n",
       "</table>\n",
       "</div>"
      ],
      "text/plain": [
       "                  date  persons_involved  killed  injured         county  \\\n",
       "0  2014-10-24 08:45:00                 2       0        1  Harju maakond   \n",
       "1  2014-10-24 13:45:00                 2       0        1  Harju maakond   \n",
       "2  2014-08-11 00:00:00                 2       0        1  Harju maakond   \n",
       "3  2014-11-17 17:32:00                 2       0        2  Harju maakond   \n",
       "4  2015-04-28 07:55:00                 2       0        1  Harju maakond   \n",
       "\n",
       "   pedestrian_involved     accident_type light_conditions  \n",
       "0                    1  Jalakäijaõnnetus        Valge aeg  \n",
       "1                    0        Kokkupõrge        Valge aeg  \n",
       "2                    0        Kokkupõrge        Valge aeg  \n",
       "3                    0        Kokkupõrge       Pimeda aeg  \n",
       "4                    0        Kokkupõrge        Valge aeg  "
      ]
     },
     "execution_count": 4,
     "metadata": {},
     "output_type": "execute_result"
    }
   ],
   "source": [
    "accidents.head()"
   ]
  },
  {
   "cell_type": "code",
   "execution_count": 5,
   "metadata": {},
   "outputs": [
    {
     "name": "stdout",
     "output_type": "stream",
     "text": [
      "<class 'pandas.core.frame.DataFrame'>\n",
      "RangeIndex: 14259 entries, 0 to 14258\n",
      "Data columns (total 8 columns):\n",
      " #   Column               Non-Null Count  Dtype \n",
      "---  ------               --------------  ----- \n",
      " 0   date                 14259 non-null  object\n",
      " 1   persons_involved     14259 non-null  int64 \n",
      " 2   killed               14259 non-null  int64 \n",
      " 3   injured              14259 non-null  int64 \n",
      " 4   county               14259 non-null  object\n",
      " 5   pedestrian_involved  14259 non-null  int64 \n",
      " 6   accident_type        14259 non-null  object\n",
      " 7   light_conditions     14259 non-null  object\n",
      "dtypes: int64(4), object(4)\n",
      "memory usage: 891.3+ KB\n"
     ]
    }
   ],
   "source": [
    "accidents.info()"
   ]
  },
  {
   "cell_type": "markdown",
   "metadata": {},
   "source": [
    "#### Selecting columns"
   ]
  },
  {
   "cell_type": "code",
   "execution_count": 6,
   "metadata": {},
   "outputs": [
    {
     "data": {
      "text/plain": [
       "dtype('O')"
      ]
     },
     "execution_count": 6,
     "metadata": {},
     "output_type": "execute_result"
    }
   ],
   "source": [
    "accidents[\"date\"]\n",
    "accidents[\"date\"].dtype"
   ]
  },
  {
   "cell_type": "markdown",
   "metadata": {},
   "source": [
    "We need to fix the data type (mutate)"
   ]
  },
  {
   "cell_type": "code",
   "execution_count": 7,
   "metadata": {},
   "outputs": [],
   "source": [
    "accidents[\"date\"] = pd.to_datetime(accidents[\"date\"])"
   ]
  },
  {
   "cell_type": "markdown",
   "metadata": {},
   "source": [
    "#### Pandas Series"
   ]
  },
  {
   "cell_type": "code",
   "execution_count": 8,
   "metadata": {},
   "outputs": [
    {
     "data": {
      "text/plain": [
       "Timestamp('2021-12-31 23:45:00')"
      ]
     },
     "execution_count": 8,
     "metadata": {},
     "output_type": "execute_result"
    }
   ],
   "source": [
    "# select and series\n",
    "# What date range do the data cover?\n",
    "dates = accidents[\"date\"]\n",
    "type(dates)\n",
    "accidents[\"date\"].min()\n",
    "accidents[\"date\"].max()"
   ]
  },
  {
   "cell_type": "code",
   "execution_count": 9,
   "metadata": {},
   "outputs": [
    {
     "data": {
      "text/plain": [
       "accident_type\n",
       "Kokkupõrge            5605\n",
       "Ühesõidukiõnnetus     3946\n",
       "Jalakäijaõnnetus      3386\n",
       "Muu liiklusõnnetus    1262\n",
       "Teadmata                60\n",
       "Name: count, dtype: int64"
      ]
     },
     "execution_count": 9,
     "metadata": {},
     "output_type": "execute_result"
    }
   ],
   "source": [
    "accidents[\"accident_type\"]\n",
    "accidents[\"accident_type\"].value_counts()"
   ]
  },
  {
   "cell_type": "markdown",
   "metadata": {},
   "source": [
    "#### Filter columns\n",
    "\n",
    "How many of the accidents were in Harju county?"
   ]
  },
  {
   "cell_type": "code",
   "execution_count": 10,
   "metadata": {},
   "outputs": [
    {
     "data": {
      "text/plain": [
       "(7000, 8)"
      ]
     },
     "execution_count": 10,
     "metadata": {},
     "output_type": "execute_result"
    }
   ],
   "source": [
    "# filter\n",
    "# How many of the accidents were in Harju county?\n",
    "accidents[\"county\"] == \"Harju maakond\"\n",
    "accidents[accidents[\"county\"] == \"Harju maakond\"].shape"
   ]
  },
  {
   "cell_type": "markdown",
   "metadata": {},
   "source": [
    "How many people were killed or injured, overall?\n",
    "\n",
    "Mutate and summarize."
   ]
  },
  {
   "cell_type": "code",
   "execution_count": 11,
   "metadata": {},
   "outputs": [
    {
     "data": {
      "text/plain": [
       "np.int64(18021)"
      ]
     },
     "execution_count": 11,
     "metadata": {},
     "output_type": "execute_result"
    }
   ],
   "source": [
    "# mutate\n",
    "# create a new column: killed + injured\n",
    "accidents[\"killed_or_injured\"] = accidents[\"killed\"] + accidents[\"injured\"]\n",
    "\n",
    "sum(accidents[\"killed_or_injured\"])\n",
    "accidents[\"killed_or_injured\"].sum()"
   ]
  },
  {
   "cell_type": "markdown",
   "metadata": {},
   "source": [
    "Grouping: how many people were harmed, by accident type?\n"
   ]
  },
  {
   "cell_type": "code",
   "execution_count": 12,
   "metadata": {},
   "outputs": [
    {
     "data": {
      "text/html": [
       "<div>\n",
       "<style scoped>\n",
       "    .dataframe tbody tr th:only-of-type {\n",
       "        vertical-align: middle;\n",
       "    }\n",
       "\n",
       "    .dataframe tbody tr th {\n",
       "        vertical-align: top;\n",
       "    }\n",
       "\n",
       "    .dataframe thead th {\n",
       "        text-align: right;\n",
       "    }\n",
       "</style>\n",
       "<table border=\"1\" class=\"dataframe\">\n",
       "  <thead>\n",
       "    <tr style=\"text-align: right;\">\n",
       "      <th></th>\n",
       "      <th>killed_or_injured</th>\n",
       "    </tr>\n",
       "    <tr>\n",
       "      <th>accident_type</th>\n",
       "      <th></th>\n",
       "    </tr>\n",
       "  </thead>\n",
       "  <tbody>\n",
       "    <tr>\n",
       "      <th>Jalakäijaõnnetus</th>\n",
       "      <td>3548</td>\n",
       "    </tr>\n",
       "    <tr>\n",
       "      <th>Kokkupõrge</th>\n",
       "      <td>7951</td>\n",
       "    </tr>\n",
       "    <tr>\n",
       "      <th>Muu liiklusõnnetus</th>\n",
       "      <td>1436</td>\n",
       "    </tr>\n",
       "    <tr>\n",
       "      <th>Teadmata</th>\n",
       "      <td>70</td>\n",
       "    </tr>\n",
       "    <tr>\n",
       "      <th>Ühesõidukiõnnetus</th>\n",
       "      <td>5016</td>\n",
       "    </tr>\n",
       "  </tbody>\n",
       "</table>\n",
       "</div>"
      ],
      "text/plain": [
       "                    killed_or_injured\n",
       "accident_type                        \n",
       "Jalakäijaõnnetus                 3548\n",
       "Kokkupõrge                       7951\n",
       "Muu liiklusõnnetus               1436\n",
       "Teadmata                           70\n",
       "Ühesõidukiõnnetus                5016"
      ]
     },
     "execution_count": 12,
     "metadata": {},
     "output_type": "execute_result"
    }
   ],
   "source": [
    "# summarize total accidents by something\n",
    "by_type = accidents.groupby(\"accident_type\").agg({\"killed_or_injured\": \"sum\"})\n",
    "by_type\n"
   ]
  },
  {
   "cell_type": "markdown",
   "metadata": {},
   "source": [
    "What happened to the \"accident_type\" column?\n",
    "\n",
    "pandas Index"
   ]
  },
  {
   "cell_type": "code",
   "execution_count": 13,
   "metadata": {},
   "outputs": [
    {
     "data": {
      "text/plain": [
       "Index(['Jalakäijaõnnetus', 'Kokkupõrge', 'Muu liiklusõnnetus', 'Teadmata',\n",
       "       'Ühesõidukiõnnetus'],\n",
       "      dtype='object', name='accident_type')"
      ]
     },
     "execution_count": 13,
     "metadata": {},
     "output_type": "execute_result"
    }
   ],
   "source": [
    "# index\n",
    "# what happened to accident type?\n",
    "by_type.columns\n",
    "by_type.index"
   ]
  },
  {
   "cell_type": "markdown",
   "metadata": {},
   "source": [
    "To further explore this, let's look at the number of people harmed, by year"
   ]
  },
  {
   "cell_type": "code",
   "execution_count": 14,
   "metadata": {},
   "outputs": [],
   "source": [
    "# how many people killed over time?\n",
    "foo = accidents.resample(rule=\"YE\", on=\"date\").sum()\n",
    "by_year = accidents.loc[:, [\"date\", \"killed_or_injured\", \"persons_involved\"]].resample(rule=\"YE\", on=\"date\").sum()\n",
    "\n",
    "# index\n",
    "# what happened to date?\n",
    "by_year.columns\n",
    "by_year.index\n",
    "\n",
    "by_year = by_year.reset_index()\n",
    "type(by_year[\"date\"])\n",
    "by_year[\"date\"].dt.year\n",
    "by_year[\"year\"] = by_year[\"date\"].dt.year\n",
    "by_year = by_year.drop(\"date\", axis=1)\n",
    "by_year = by_year[[\"year\", \"persons_involved\", \"killed_or_injured\"]]\n"
   ]
  },
  {
   "cell_type": "markdown",
   "metadata": {},
   "source": [
    "For joins, merge in county population and look at rate\n",
    "TODO"
   ]
  },
  {
   "cell_type": "code",
   "execution_count": 15,
   "metadata": {},
   "outputs": [],
   "source": [
    "# TODO\n",
    "# merge in country population, summarize by county rate\n",
    "\n"
   ]
  },
  {
   "cell_type": "markdown",
   "metadata": {},
   "source": [
    "Reshaping / pivoting\n",
    "\n",
    "for this we will look at another dataset"
   ]
  },
  {
   "cell_type": "code",
   "execution_count": 16,
   "metadata": {},
   "outputs": [],
   "source": [
    "\n",
    "# for pivoting, use one of the health datasets\n",
    "reflectors = pd.read_csv(\"data/reflectors.csv\", skiprows=2, header=1, sep=\";\")\n"
   ]
  },
  {
   "cell_type": "markdown",
   "metadata": {},
   "source": [
    "## Clean the data"
   ]
  },
  {
   "cell_type": "code",
   "execution_count": 17,
   "metadata": {},
   "outputs": [
    {
     "name": "stdout",
     "output_type": "stream",
     "text": [
      "<class 'pandas.core.frame.DataFrame'>\n",
      "RangeIndex: 15708 entries, 0 to 15707\n",
      "Data columns (total 53 columns):\n",
      " #   Column                                         Non-Null Count  Dtype  \n",
      "---  ------                                         --------------  -----  \n",
      " 0   Juhtumi nr                                     15708 non-null  object \n",
      " 1   Toimumisaeg                                    15708 non-null  object \n",
      " 2   Isikuid                                        15633 non-null  float64\n",
      " 3   Hukkunuid                                      15708 non-null  int64  \n",
      " 4   Vigastatuid                                    15708 non-null  int64  \n",
      " 5   Sõidukeid                                      15633 non-null  float64\n",
      " 6   Aadress (PPA)                                  14601 non-null  object \n",
      " 7   Maja nr (PPA)                                  6686 non-null   object \n",
      " 8   Tänav (PPA)                                    14012 non-null  object \n",
      " 9   Ristuv tänav (PPA)                             2757 non-null   object \n",
      " 10  Maakond (PPA)                                  14676 non-null  object \n",
      " 11  Omavalitsus (PPA)                              14670 non-null  object \n",
      " 12  Asustus (PPA)                                  8822 non-null   object \n",
      " 13  Asula                                          15708 non-null  object \n",
      " 14  Liiklusõnnetuse liik [1]                       15708 non-null  object \n",
      " 15  Liiklusõnnetuse liik [3]                       15708 non-null  object \n",
      " 16  Kergliikurijuhi osalusel                       15563 non-null  float64\n",
      " 17  Jalakäija osalusel                             15563 non-null  float64\n",
      " 18  Kaassõitja osalusel                            15563 non-null  float64\n",
      " 19  Maastikusõiduki juhi osalusel                  15563 non-null  float64\n",
      " 20  Eaka (65+) mootorsõidukijuhi osalusel          15563 non-null  float64\n",
      " 21  Bussijuhi osalusel                             15563 non-null  float64\n",
      " 22  Veoautojuhi osalusel                           15563 non-null  float64\n",
      " 23  Ühissõidukijuhi osalusel                       15563 non-null  float64\n",
      " 24  Sõiduautojuhi osalusel                         15563 non-null  float64\n",
      " 25  Mootorratturi osalusel                         15563 non-null  float64\n",
      " 26  Mopeedijuhi osalusel                           15563 non-null  float64\n",
      " 27  Jalgratturi osalusel                           15563 non-null  float64\n",
      " 28  Alaealise osalusel                             15563 non-null  float64\n",
      " 29  Turvavarustust mitte kasutanud isiku osalusel  15563 non-null  float64\n",
      " 30  Esmase juhiloa omaniku osalusel                15563 non-null  float64\n",
      " 31  Mootorsõidukijuhi osalusel                     15563 non-null  float64\n",
      " 32  Tüüpskeemi nr                                  15245 non-null  float64\n",
      " 33  Tüüpskeem [2]                                  15245 non-null  object \n",
      " 34  Tee tüüp [1]                                   15581 non-null  object \n",
      " 35  Tee tüüp [2]                                   15581 non-null  object \n",
      " 36  Tee element [1]                                15128 non-null  object \n",
      " 37  Tee element [2]                                15128 non-null  object \n",
      " 38  Tee objekt [2]                                 15169 non-null  object \n",
      " 39  Kurvilisus                                     15199 non-null  object \n",
      " 40  Tee tasasus                                    15265 non-null  object \n",
      " 41  Tee seisund                                    15310 non-null  object \n",
      " 42  Teekate                                        15406 non-null  object \n",
      " 43  Teekatte seisund [2]                           15356 non-null  object \n",
      " 44  Sõiduradade arv                                4182 non-null   object \n",
      " 45  Lubatud sõidukiirus (PPA)                      15164 non-null  float64\n",
      " 46  Tee nr (PPA)                                   4749 non-null   float64\n",
      " 47  Tee km (PPA)                                   4754 non-null   object \n",
      " 48  Ilmastik [1]                                   15357 non-null  object \n",
      " 49  Valgustus [1]                                  15396 non-null  object \n",
      " 50  Valgustus [2]                                  15396 non-null  object \n",
      " 51  GPS X                                          13464 non-null  float64\n",
      " 52  GPS Y                                          13459 non-null  float64\n",
      "dtypes: float64(23), int64(2), object(28)\n",
      "memory usage: 6.4+ MB\n"
     ]
    }
   ],
   "source": [
    "accidents = pd.read_csv(\"data/estonia-traffic-accidents.csv\")\n",
    "\n",
    "accidents.head()\n",
    "\n",
    "accidents.info()\n",
    "\n",
    "accidents[\"Toimumisaeg\"]\n",
    "\n",
    "keep = [\"Toimumisaeg\", \"Isikuid\", \"Hukkunuid\", \"Vigastatuid\", \"Maakond (PPA)\",\n",
    "        \"Jalakäija osalusel\", \"Liiklusõnnetuse liik [1]\", \"Valgustus [1]\"]\n",
    "\n",
    "accidents = accidents[keep]\n",
    "\n",
    "translate_columns = {\"Toimumisaeg\": \"date\", \"Isikuid\": \"persons_involved\", \n",
    "                     \"Hukkunuid\": \"killed\", \"Vigastatuid\": \"injured\", \n",
    "                     \"Maakond (PPA)\": \"county\", \n",
    "                     \"Jalakäija osalusel\": \"pedestrian_involved\", \n",
    "                     \"Liiklusõnnetuse liik [1]\": \"accident_type\", \n",
    "                     \"Valgustus [1]\": \"light_conditions\"}\n",
    "\n",
    "accidents = accidents.rename(columns=translate_columns)\n",
    "\n",
    "# fix date\n",
    "import dateparser\n",
    "accidents[\"date\"] = accidents[\"date\"].apply(lambda x: dateparser.parse(x, languages=[\"en\"]))\n",
    "\n",
    "# talk about missing values and filter those out\n",
    "accidents.isna().sum()\n",
    "\n",
    "accidents = accidents.dropna()\n",
    "\n",
    "# talk about data types and fix those\n",
    "accidents = accidents.astype({\"persons_involved\": \"int64\",\n",
    "                              \"pedestrian_involved\": \"int64\"})\n",
    "\n",
    "# accidents.to_csv(\"data/estonia-traffic-accidents-clean.csv\", index=False)\n"
   ]
  },
  {
   "cell_type": "markdown",
   "metadata": {},
   "source": [
    "## polars\n"
   ]
  },
  {
   "cell_type": "code",
   "execution_count": 18,
   "metadata": {},
   "outputs": [],
   "source": [
    "import polars as pl"
   ]
  },
  {
   "cell_type": "markdown",
   "metadata": {},
   "source": [
    "Pro-tip: always plot your data"
   ]
  },
  {
   "cell_type": "code",
   "execution_count": 19,
   "metadata": {},
   "outputs": [],
   "source": [
    "# For this we also need to import the altair plotting library.\n",
    "import altair as alt\n",
    "\n",
    "# redo the basic examples from above\n",
    "\n",
    "# datasuraus stuff from above\n",
    "df1 = pl.read_csv(\"data/dataset1.csv\")\n",
    "df2 = pl.read_csv(\"data/dataset2.csv\")\n",
    "\n"
   ]
  },
  {
   "cell_type": "markdown",
   "metadata": {},
   "source": [
    "The data appear to be similar"
   ]
  },
  {
   "cell_type": "code",
   "execution_count": 20,
   "metadata": {},
   "outputs": [
    {
     "data": {
      "text/plain": [
       "(142, 2)"
      ]
     },
     "execution_count": 20,
     "metadata": {},
     "output_type": "execute_result"
    }
   ],
   "source": [
    "df1.shape\n",
    "df2.shape"
   ]
  },
  {
   "cell_type": "code",
   "execution_count": 21,
   "metadata": {},
   "outputs": [
    {
     "data": {
      "text/html": [
       "<div><style>\n",
       ".dataframe > thead > tr,\n",
       ".dataframe > tbody > tr {\n",
       "  text-align: right;\n",
       "  white-space: pre-wrap;\n",
       "}\n",
       "</style>\n",
       "<small>shape: (9, 3)</small><table border=\"1\" class=\"dataframe\"><thead><tr><th>statistic</th><th>x</th><th>y</th></tr><tr><td>str</td><td>f64</td><td>f64</td></tr></thead><tbody><tr><td>&quot;count&quot;</td><td>142.0</td><td>142.0</td></tr><tr><td>&quot;null_count&quot;</td><td>0.0</td><td>0.0</td></tr><tr><td>&quot;mean&quot;</td><td>54.263273</td><td>47.832253</td></tr><tr><td>&quot;std&quot;</td><td>16.765142</td><td>26.935403</td></tr><tr><td>&quot;min&quot;</td><td>22.3077</td><td>2.9487</td></tr><tr><td>&quot;25%&quot;</td><td>44.1026</td><td>25.2564</td></tr><tr><td>&quot;50%&quot;</td><td>53.5897</td><td>46.0256</td></tr><tr><td>&quot;75%&quot;</td><td>64.8718</td><td>69.1026</td></tr><tr><td>&quot;max&quot;</td><td>98.2051</td><td>99.4872</td></tr></tbody></table></div>"
      ],
      "text/plain": [
       "shape: (9, 3)\n",
       "┌────────────┬───────────┬───────────┐\n",
       "│ statistic  ┆ x         ┆ y         │\n",
       "│ ---        ┆ ---       ┆ ---       │\n",
       "│ str        ┆ f64       ┆ f64       │\n",
       "╞════════════╪═══════════╪═══════════╡\n",
       "│ count      ┆ 142.0     ┆ 142.0     │\n",
       "│ null_count ┆ 0.0       ┆ 0.0       │\n",
       "│ mean       ┆ 54.263273 ┆ 47.832253 │\n",
       "│ std        ┆ 16.765142 ┆ 26.935403 │\n",
       "│ min        ┆ 22.3077   ┆ 2.9487    │\n",
       "│ 25%        ┆ 44.1026   ┆ 25.2564   │\n",
       "│ 50%        ┆ 53.5897   ┆ 46.0256   │\n",
       "│ 75%        ┆ 64.8718   ┆ 69.1026   │\n",
       "│ max        ┆ 98.2051   ┆ 99.4872   │\n",
       "└────────────┴───────────┴───────────┘"
      ]
     },
     "execution_count": 21,
     "metadata": {},
     "output_type": "execute_result"
    }
   ],
   "source": [
    "df1.describe()\n",
    "df2.describe()"
   ]
  },
  {
   "cell_type": "code",
   "execution_count": 22,
   "metadata": {},
   "outputs": [
    {
     "data": {
      "text/html": [
       "\n",
       "<style>\n",
       "  #altair-viz-fa24880fc032405a866f35be353f367b.vega-embed {\n",
       "    width: 100%;\n",
       "    display: flex;\n",
       "  }\n",
       "\n",
       "  #altair-viz-fa24880fc032405a866f35be353f367b.vega-embed details,\n",
       "  #altair-viz-fa24880fc032405a866f35be353f367b.vega-embed details summary {\n",
       "    position: relative;\n",
       "  }\n",
       "</style>\n",
       "<div id=\"altair-viz-fa24880fc032405a866f35be353f367b\"></div>\n",
       "<script type=\"text/javascript\">\n",
       "  var VEGA_DEBUG = (typeof VEGA_DEBUG == \"undefined\") ? {} : VEGA_DEBUG;\n",
       "  (function(spec, embedOpt){\n",
       "    let outputDiv = document.currentScript.previousElementSibling;\n",
       "    if (outputDiv.id !== \"altair-viz-fa24880fc032405a866f35be353f367b\") {\n",
       "      outputDiv = document.getElementById(\"altair-viz-fa24880fc032405a866f35be353f367b\");\n",
       "    }\n",
       "    const paths = {\n",
       "      \"vega\": \"https://cdn.jsdelivr.net/npm/vega@5?noext\",\n",
       "      \"vega-lib\": \"https://cdn.jsdelivr.net/npm/vega-lib?noext\",\n",
       "      \"vega-lite\": \"https://cdn.jsdelivr.net/npm/vega-lite@5.20.1?noext\",\n",
       "      \"vega-embed\": \"https://cdn.jsdelivr.net/npm/vega-embed@6?noext\",\n",
       "    };\n",
       "\n",
       "    function maybeLoadScript(lib, version) {\n",
       "      var key = `${lib.replace(\"-\", \"\")}_version`;\n",
       "      return (VEGA_DEBUG[key] == version) ?\n",
       "        Promise.resolve(paths[lib]) :\n",
       "        new Promise(function(resolve, reject) {\n",
       "          var s = document.createElement('script');\n",
       "          document.getElementsByTagName(\"head\")[0].appendChild(s);\n",
       "          s.async = true;\n",
       "          s.onload = () => {\n",
       "            VEGA_DEBUG[key] = version;\n",
       "            return resolve(paths[lib]);\n",
       "          };\n",
       "          s.onerror = () => reject(`Error loading script: ${paths[lib]}`);\n",
       "          s.src = paths[lib];\n",
       "        });\n",
       "    }\n",
       "\n",
       "    function showError(err) {\n",
       "      outputDiv.innerHTML = `<div class=\"error\" style=\"color:red;\">${err}</div>`;\n",
       "      throw err;\n",
       "    }\n",
       "\n",
       "    function displayChart(vegaEmbed) {\n",
       "      vegaEmbed(outputDiv, spec, embedOpt)\n",
       "        .catch(err => showError(`Javascript Error: ${err.message}<br>This usually means there's a typo in your chart specification. See the javascript console for the full traceback.`));\n",
       "    }\n",
       "\n",
       "    if(typeof define === \"function\" && define.amd) {\n",
       "      requirejs.config({paths});\n",
       "      require([\"vega-embed\"], displayChart, err => showError(`Error loading script: ${err.message}`));\n",
       "    } else {\n",
       "      maybeLoadScript(\"vega\", \"5\")\n",
       "        .then(() => maybeLoadScript(\"vega-lite\", \"5.20.1\"))\n",
       "        .then(() => maybeLoadScript(\"vega-embed\", \"6\"))\n",
       "        .catch(showError)\n",
       "        .then(() => displayChart(vegaEmbed));\n",
       "    }\n",
       "  })({\"config\": {\"view\": {\"continuousWidth\": 300, \"continuousHeight\": 300}}, \"data\": {\"name\": \"data-eb6365c37c0bb197a00403261ef439fc\"}, \"mark\": {\"type\": \"point\", \"tooltip\": true}, \"encoding\": {\"x\": {\"field\": \"x\", \"type\": \"quantitative\"}, \"y\": {\"field\": \"y\", \"type\": \"quantitative\"}}, \"params\": [{\"name\": \"param_2\", \"select\": {\"type\": \"interval\", \"encodings\": [\"x\", \"y\"]}, \"bind\": \"scales\"}], \"$schema\": \"https://vega.github.io/schema/vega-lite/v5.20.1.json\", \"datasets\": {\"data-eb6365c37c0bb197a00403261ef439fc\": [{\"x\": 55.3846, \"y\": 97.1795}, {\"x\": 51.5385, \"y\": 96.0256}, {\"x\": 46.1538, \"y\": 94.4872}, {\"x\": 42.8205, \"y\": 91.4103}, {\"x\": 40.7692, \"y\": 88.3333}, {\"x\": 38.7179, \"y\": 84.8718}, {\"x\": 35.641, \"y\": 79.8718}, {\"x\": 33.0769, \"y\": 77.5641}, {\"x\": 28.9744, \"y\": 74.4872}, {\"x\": 26.1538, \"y\": 71.4103}, {\"x\": 23.0769, \"y\": 66.4103}, {\"x\": 22.3077, \"y\": 61.7949}, {\"x\": 22.3077, \"y\": 57.1795}, {\"x\": 23.3333, \"y\": 52.9487}, {\"x\": 25.8974, \"y\": 51.0256}, {\"x\": 29.4872, \"y\": 51.0256}, {\"x\": 32.8205, \"y\": 51.0256}, {\"x\": 35.3846, \"y\": 51.4103}, {\"x\": 40.2564, \"y\": 51.4103}, {\"x\": 44.1026, \"y\": 52.9487}, {\"x\": 46.6667, \"y\": 54.1026}, {\"x\": 50.0, \"y\": 55.2564}, {\"x\": 53.0769, \"y\": 55.641}, {\"x\": 56.6667, \"y\": 56.0256}, {\"x\": 59.2308, \"y\": 57.9487}, {\"x\": 61.2821, \"y\": 62.1795}, {\"x\": 61.5385, \"y\": 66.4103}, {\"x\": 61.7949, \"y\": 69.1026}, {\"x\": 57.4359, \"y\": 55.2564}, {\"x\": 54.8718, \"y\": 49.8718}, {\"x\": 52.5641, \"y\": 46.0256}, {\"x\": 48.2051, \"y\": 38.3333}, {\"x\": 49.4872, \"y\": 42.1795}, {\"x\": 51.0256, \"y\": 44.1026}, {\"x\": 45.3846, \"y\": 36.4103}, {\"x\": 42.8205, \"y\": 32.5641}, {\"x\": 38.7179, \"y\": 31.4103}, {\"x\": 35.1282, \"y\": 30.2564}, {\"x\": 32.5641, \"y\": 32.1795}, {\"x\": 30.0, \"y\": 36.7949}, {\"x\": 33.5897, \"y\": 41.4103}, {\"x\": 36.6667, \"y\": 45.641}, {\"x\": 38.2051, \"y\": 49.1026}, {\"x\": 29.7436, \"y\": 36.0256}, {\"x\": 29.7436, \"y\": 32.1795}, {\"x\": 30.0, \"y\": 29.1026}, {\"x\": 32.0513, \"y\": 26.7949}, {\"x\": 35.8974, \"y\": 25.2564}, {\"x\": 41.0256, \"y\": 25.2564}, {\"x\": 44.1026, \"y\": 25.641}, {\"x\": 47.1795, \"y\": 28.718}, {\"x\": 49.4872, \"y\": 31.4103}, {\"x\": 51.5385, \"y\": 34.8718}, {\"x\": 53.5897, \"y\": 37.5641}, {\"x\": 55.1282, \"y\": 40.641}, {\"x\": 56.6667, \"y\": 42.1795}, {\"x\": 59.2308, \"y\": 44.4872}, {\"x\": 62.3077, \"y\": 46.0256}, {\"x\": 64.8718, \"y\": 46.7949}, {\"x\": 67.9487, \"y\": 47.9487}, {\"x\": 70.5128, \"y\": 53.718}, {\"x\": 71.5385, \"y\": 60.641}, {\"x\": 71.5385, \"y\": 64.4872}, {\"x\": 69.4872, \"y\": 69.4872}, {\"x\": 46.9231, \"y\": 79.8718}, {\"x\": 48.2051, \"y\": 84.1026}, {\"x\": 50.0, \"y\": 85.2564}, {\"x\": 53.0769, \"y\": 85.2564}, {\"x\": 55.3846, \"y\": 86.0256}, {\"x\": 56.6667, \"y\": 86.0256}, {\"x\": 56.1538, \"y\": 82.9487}, {\"x\": 53.8462, \"y\": 80.641}, {\"x\": 51.2821, \"y\": 78.718}, {\"x\": 50.0, \"y\": 78.718}, {\"x\": 47.9487, \"y\": 77.5641}, {\"x\": 29.7436, \"y\": 59.8718}, {\"x\": 29.7436, \"y\": 62.1795}, {\"x\": 31.2821, \"y\": 62.5641}, {\"x\": 57.9487, \"y\": 99.4872}, {\"x\": 61.7949, \"y\": 99.1026}, {\"x\": 64.8718, \"y\": 97.5641}, {\"x\": 68.4615, \"y\": 94.1026}, {\"x\": 70.7692, \"y\": 91.0256}, {\"x\": 72.0513, \"y\": 86.4103}, {\"x\": 73.8462, \"y\": 83.3333}, {\"x\": 75.1282, \"y\": 79.1026}, {\"x\": 76.6667, \"y\": 75.2564}, {\"x\": 77.6923, \"y\": 71.4103}, {\"x\": 79.7436, \"y\": 66.7949}, {\"x\": 81.7949, \"y\": 60.2564}, {\"x\": 83.3333, \"y\": 55.2564}, {\"x\": 85.1282, \"y\": 51.4103}, {\"x\": 86.4103, \"y\": 47.5641}, {\"x\": 87.9487, \"y\": 46.0256}, {\"x\": 89.4872, \"y\": 42.5641}, {\"x\": 93.3333, \"y\": 39.8718}, {\"x\": 95.3846, \"y\": 36.7949}, {\"x\": 98.2051, \"y\": 33.718}, {\"x\": 56.6667, \"y\": 40.641}, {\"x\": 59.2308, \"y\": 38.3333}, {\"x\": 60.7692, \"y\": 33.718}, {\"x\": 63.0769, \"y\": 29.1026}, {\"x\": 64.1026, \"y\": 25.2564}, {\"x\": 64.359, \"y\": 24.1026}, {\"x\": 74.359, \"y\": 22.9487}, {\"x\": 71.2821, \"y\": 22.9487}, {\"x\": 67.9487, \"y\": 22.1795}, {\"x\": 65.8974, \"y\": 20.2564}, {\"x\": 63.0769, \"y\": 19.1026}, {\"x\": 61.2821, \"y\": 19.1026}, {\"x\": 58.7179, \"y\": 18.3333}, {\"x\": 55.1282, \"y\": 18.3333}, {\"x\": 52.3077, \"y\": 18.3333}, {\"x\": 49.7436, \"y\": 17.5641}, {\"x\": 47.4359, \"y\": 16.0256}, {\"x\": 44.8718, \"y\": 13.718}, {\"x\": 48.7179, \"y\": 14.8718}, {\"x\": 51.2821, \"y\": 14.8718}, {\"x\": 54.1026, \"y\": 14.8718}, {\"x\": 56.1538, \"y\": 14.1026}, {\"x\": 52.0513, \"y\": 12.5641}, {\"x\": 48.7179, \"y\": 11.0256}, {\"x\": 47.1795, \"y\": 9.8718}, {\"x\": 46.1538, \"y\": 6.0256}, {\"x\": 50.5128, \"y\": 9.4872}, {\"x\": 53.8462, \"y\": 10.2564}, {\"x\": 57.4359, \"y\": 10.2564}, {\"x\": 60.0, \"y\": 10.641}, {\"x\": 64.1026, \"y\": 10.641}, {\"x\": 66.9231, \"y\": 10.641}, {\"x\": 71.2821, \"y\": 10.641}, {\"x\": 74.359, \"y\": 10.641}, {\"x\": 78.2051, \"y\": 10.641}, {\"x\": 67.9487, \"y\": 8.718}, {\"x\": 68.4615, \"y\": 5.2564}, {\"x\": 68.2051, \"y\": 2.9487}, {\"x\": 37.6923, \"y\": 25.7692}, {\"x\": 39.4872, \"y\": 25.3846}, {\"x\": 91.2821, \"y\": 41.5385}, {\"x\": 50.0, \"y\": 95.7692}, {\"x\": 47.9487, \"y\": 95.0}, {\"x\": 44.1026, \"y\": 92.6923}]}}, {\"mode\": \"vega-lite\"});\n",
       "</script>"
      ],
      "text/plain": [
       "alt.Chart(...)"
      ]
     },
     "execution_count": 22,
     "metadata": {},
     "output_type": "execute_result"
    }
   ],
   "source": [
    "\n",
    "df1.plot.point(\"x\", \"y\")\n",
    "df2.plot.point(\"x\", \"y\")"
   ]
  },
  {
   "cell_type": "markdown",
   "metadata": {},
   "source": [
    "## Appendix"
   ]
  },
  {
   "cell_type": "code",
   "execution_count": 23,
   "metadata": {},
   "outputs": [],
   "source": [
    "# split this file but just use it to make a point about also plotting data\n",
    "datasaurus = pd.read_csv(\"data/datasaurus.csv\")\n",
    "\n",
    "df1 = datasaurus[datasaurus[\"dataset\"] == \"away\"].drop(\"dataset\", axis=1)\n",
    "df2 = datasaurus[datasaurus[\"dataset\"] == \"dino\"].drop(\"dataset\", axis=1)\n",
    "\n",
    "df1.to_csv(\"data/dataset1.csv\", index=False)\n",
    "df2.to_csv(\"data/dataset2.csv\", index=False)"
   ]
  }
 ],
 "metadata": {
  "kernelspec": {
   "display_name": "dataframes_workshop",
   "language": "python",
   "name": "python3"
  },
  "language_info": {
   "codemirror_mode": {
    "name": "ipython",
    "version": 3
   },
   "file_extension": ".py",
   "mimetype": "text/x-python",
   "name": "python",
   "nbconvert_exporter": "python",
   "pygments_lexer": "ipython3",
   "version": "3.12.7"
  }
 },
 "nbformat": 4,
 "nbformat_minor": 2
}
